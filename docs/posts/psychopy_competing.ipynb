{
 "cells": [
  {
   "cell_type": "markdown",
   "metadata": {},
   "source": [
    "# A Discrimination Experiment: Competing MCs\n",
    "\n",
    "\n",
    "A nice feature of MCs is the ability to superpose them without much interference. Indeed, summing two gratings generates intereference patterns (Moiré or plaids) which are interfering with the sensory processes that we study. On the contrary, MotionClouds are defined as uncoherent textures and interefrences are just happening \"by chance\"."
   ]
  },
  {
   "cell_type": "code",
   "execution_count": 3,
   "metadata": {
    "collapsed": false
   },
   "outputs": [
    {
     "name": "stdout",
     "output_type": "stream",
     "text": [
      "Overwriting ../files/experiment_competing.py\n"
     ]
    }
   ],
   "source": [
    "%%writefile ../files/experiment_competing.py\n",
    "#!/usr/bin/env python\n",
    "\"\"\"\n",
    "\n",
    "Superposition of MotionClouds to generate competing motions.\n",
    "\n",
    "(c) Laurent Perrinet - INT/CNRS\n",
    "\n",
    "\"\"\"\n",
    "import numpy\n",
    "import MotionClouds as mc\n",
    "fx, fy, ft = mc.get_grids(mc.N_X, mc.N_Y, mc.N_frame)\n",
    "\n",
    "name = 'competing'\n",
    "z = (.5*mc.envelope_gabor(fx, fy, ft, sf_0=0.2, V_X=-1.5)\n",
    "     + .1*mc.envelope_gabor(fx, fy, ft, sf_0=0.4, V_X=.5)#, theta=numpy.pi/2.)\n",
    "    )\n",
    "mc.figures(z, name)\n",
    "mc.in_show_video(name)\n",
    "\n",
    "name = 'two_bands'\n",
    "# and now selecting blobs:\n",
    "# one band\n",
    "one = mc.envelope_gabor(fx, fy, ft, B_theta=10.)\n",
    "# a second band\n",
    "two = mc.envelope_gabor(fx, fy, ft, sf_0=.45, B_theta=10.)\n",
    "mc.figures(one + two, name)\n",
    "mc.in_show_video(name)\n",
    "\n",
    "# explore parameters\n",
    "for sf_0 in [0.0, 0.1 , 0.2, 0.3, 0.8, 0.9]:\n",
    "    name_ = name + '-sf_0' + str(sf_0).replace('.', '_')\n",
    "    one = mc.envelope_gabor(fx, fy, ft, B_theta=10.)\n",
    "    two = mc.envelope_gabor(fx, fy, ft, sf_0=sf_0, B_theta=10.)\n",
    "    mc.figures(one + two, name_)\n",
    "    mc.in_show_video(name_)\n",
    "\n",
    "name = 'counterphase_grating'\n",
    "right = mc.envelope_speed(fx, fy, ft, V_X=.5 )\n",
    "left = mc.envelope_speed(fx, fy, ft, V_X=-.5 )\n",
    "grating = mc.envelope_gabor(fx, fy, ft)\n",
    "z = grating * (left + right ) # thanks to the addititivity of MCs\n",
    "mc.figures(z, name)\n",
    "mc.in_show_video(name)\n",
    "\n",
    "name = 'plaid'\n",
    "diag1 = mc.envelope_gabor(fx, fy, ft, theta=numpy.pi/4.)\n",
    "diag2 = mc.envelope_gabor(fx, fy, ft, theta=-numpy.pi/4.)\n",
    "z = (diag1 + diag2)\n",
    "mc.figures(z, name)\n",
    "mc.in_show_video(name)\n",
    "\n",
    "# explore parameters\n",
    "for V_X in [0., 0.5, 1.]:\n",
    "    name_ = name + '-V_X' + str(V_X).replace('.', '_')\n",
    "    diag = mc.envelope_gabor(fx, fy, ft, V_X=V_X)\n",
    "    z = (diag + diag2)\n",
    "    mc.figures(z, name_)\n",
    "    mc.in_show_video(name_)\n",
    "\n",
    "for V_Y in [0., 0.5, 1.]:\n",
    "    name_ = name + '-V_Y' + str(V_Y).replace('.', '_')\n",
    "    diag = mc.envelope_gabor(fx, fy, ft, V_Y=V_Y)\n",
    "    z = (diag + diag2)\n",
    "    mc.figures(z, name_)\n",
    "    mc.in_show_video(name_)\n",
    "\n",
    "for div in [1, 2, 3, 5, 8, 13 ]:\n",
    "    name_ = name + '-theta_pi-over-' + str(div).replace('.', '_')\n",
    "    z = (mc.envelope_gabor(fx, fy, ft, theta=numpy.pi/div) + mc.envelope_gabor(fx, fy, ft, theta=-numpy.pi/div))\n",
    "    mc.figures(z, name_)\n",
    "    mc.in_show_video(name)\n"
   ]
  },
  {
   "cell_type": "code",
   "execution_count": 4,
   "metadata": {
    "collapsed": false
   },
   "outputs": [
    {
     "name": "stdout",
     "output_type": "stream",
     "text": [
      "/Users/lolo/pool/blog/motionclouds.invibe.net/files\n"
     ]
    },
    {
     "data": {
      "text/html": [
       "\n",
       "                <center><table border=none width=100% height=100%>\n",
       "                <tr>\n",
       "                <td width=33%%><center><img src=\"../files/competing.png\" width=100%/></td>\n",
       "                <td rowspan=2  colspan=2><center><video src=\"../files/competing.mp4\"   loop=\"1\" autoplay=\"1\" controls   type=\"video/mp4\" width=100%/></td>\n",
       "                </tr>\n",
       "                <tr>\n",
       "                <td><center><img src=\"../files/competing_cube.png\" width=100%/></td>\n",
       "                </tr>\n",
       "                </table></center>"
      ],
      "text/plain": [
       "<IPython.core.display.HTML object>"
      ]
     },
     "metadata": {},
     "output_type": "display_data"
    },
    {
     "data": {
      "text/html": [
       "\n",
       "                <center><table border=none width=100% height=100%>\n",
       "                <tr>\n",
       "                <td width=33%%><center><img src=\"../files/two_bands.png\" width=100%/></td>\n",
       "                <td rowspan=2  colspan=2><center><video src=\"../files/two_bands.mp4\"   loop=\"1\" autoplay=\"1\" controls   type=\"video/mp4\" width=100%/></td>\n",
       "                </tr>\n",
       "                <tr>\n",
       "                <td><center><img src=\"../files/two_bands_cube.png\" width=100%/></td>\n",
       "                </tr>\n",
       "                </table></center>"
      ],
      "text/plain": [
       "<IPython.core.display.HTML object>"
      ]
     },
     "metadata": {},
     "output_type": "display_data"
    },
    {
     "data": {
      "text/html": [
       "\n",
       "                <center><table border=none width=100% height=100%>\n",
       "                <tr>\n",
       "                <td width=33%%><center><img src=\"../files/two_bands-sf_00_0.png\" width=100%/></td>\n",
       "                <td rowspan=2  colspan=2><center><video src=\"../files/two_bands-sf_00_0.mp4\"   loop=\"1\" autoplay=\"1\" controls   type=\"video/mp4\" width=100%/></td>\n",
       "                </tr>\n",
       "                <tr>\n",
       "                <td><center><img src=\"../files/two_bands-sf_00_0_cube.png\" width=100%/></td>\n",
       "                </tr>\n",
       "                </table></center>"
      ],
      "text/plain": [
       "<IPython.core.display.HTML object>"
      ]
     },
     "metadata": {},
     "output_type": "display_data"
    },
    {
     "data": {
      "text/html": [
       "\n",
       "                <center><table border=none width=100% height=100%>\n",
       "                <tr>\n",
       "                <td width=33%%><center><img src=\"../files/two_bands-sf_00_1.png\" width=100%/></td>\n",
       "                <td rowspan=2  colspan=2><center><video src=\"../files/two_bands-sf_00_1.mp4\"   loop=\"1\" autoplay=\"1\" controls   type=\"video/mp4\" width=100%/></td>\n",
       "                </tr>\n",
       "                <tr>\n",
       "                <td><center><img src=\"../files/two_bands-sf_00_1_cube.png\" width=100%/></td>\n",
       "                </tr>\n",
       "                </table></center>"
      ],
      "text/plain": [
       "<IPython.core.display.HTML object>"
      ]
     },
     "metadata": {},
     "output_type": "display_data"
    },
    {
     "data": {
      "text/html": [
       "\n",
       "                <center><table border=none width=100% height=100%>\n",
       "                <tr>\n",
       "                <td width=33%%><center><img src=\"../files/two_bands-sf_00_2.png\" width=100%/></td>\n",
       "                <td rowspan=2  colspan=2><center><video src=\"../files/two_bands-sf_00_2.mp4\"   loop=\"1\" autoplay=\"1\" controls   type=\"video/mp4\" width=100%/></td>\n",
       "                </tr>\n",
       "                <tr>\n",
       "                <td><center><img src=\"../files/two_bands-sf_00_2_cube.png\" width=100%/></td>\n",
       "                </tr>\n",
       "                </table></center>"
      ],
      "text/plain": [
       "<IPython.core.display.HTML object>"
      ]
     },
     "metadata": {},
     "output_type": "display_data"
    },
    {
     "data": {
      "text/html": [
       "\n",
       "                <center><table border=none width=100% height=100%>\n",
       "                <tr>\n",
       "                <td width=33%%><center><img src=\"../files/two_bands-sf_00_3.png\" width=100%/></td>\n",
       "                <td rowspan=2  colspan=2><center><video src=\"../files/two_bands-sf_00_3.mp4\"   loop=\"1\" autoplay=\"1\" controls   type=\"video/mp4\" width=100%/></td>\n",
       "                </tr>\n",
       "                <tr>\n",
       "                <td><center><img src=\"../files/two_bands-sf_00_3_cube.png\" width=100%/></td>\n",
       "                </tr>\n",
       "                </table></center>"
      ],
      "text/plain": [
       "<IPython.core.display.HTML object>"
      ]
     },
     "metadata": {},
     "output_type": "display_data"
    },
    {
     "data": {
      "text/html": [
       "\n",
       "                <center><table border=none width=100% height=100%>\n",
       "                <tr>\n",
       "                <td width=33%%><center><img src=\"../files/two_bands-sf_00_8.png\" width=100%/></td>\n",
       "                <td rowspan=2  colspan=2><center><video src=\"../files/two_bands-sf_00_8.mp4\"   loop=\"1\" autoplay=\"1\" controls   type=\"video/mp4\" width=100%/></td>\n",
       "                </tr>\n",
       "                <tr>\n",
       "                <td><center><img src=\"../files/two_bands-sf_00_8_cube.png\" width=100%/></td>\n",
       "                </tr>\n",
       "                </table></center>"
      ],
      "text/plain": [
       "<IPython.core.display.HTML object>"
      ]
     },
     "metadata": {},
     "output_type": "display_data"
    },
    {
     "data": {
      "text/html": [
       "\n",
       "                <center><table border=none width=100% height=100%>\n",
       "                <tr>\n",
       "                <td width=33%%><center><img src=\"../files/two_bands-sf_00_9.png\" width=100%/></td>\n",
       "                <td rowspan=2  colspan=2><center><video src=\"../files/two_bands-sf_00_9.mp4\"   loop=\"1\" autoplay=\"1\" controls   type=\"video/mp4\" width=100%/></td>\n",
       "                </tr>\n",
       "                <tr>\n",
       "                <td><center><img src=\"../files/two_bands-sf_00_9_cube.png\" width=100%/></td>\n",
       "                </tr>\n",
       "                </table></center>"
      ],
      "text/plain": [
       "<IPython.core.display.HTML object>"
      ]
     },
     "metadata": {},
     "output_type": "display_data"
    },
    {
     "data": {
      "text/html": [
       "\n",
       "                <center><table border=none width=100% height=100%>\n",
       "                <tr>\n",
       "                <td width=33%%><center><img src=\"../files/counterphase_grating.png\" width=100%/></td>\n",
       "                <td rowspan=2  colspan=2><center><video src=\"../files/counterphase_grating.mp4\"   loop=\"1\" autoplay=\"1\" controls   type=\"video/mp4\" width=100%/></td>\n",
       "                </tr>\n",
       "                <tr>\n",
       "                <td><center><img src=\"../files/counterphase_grating_cube.png\" width=100%/></td>\n",
       "                </tr>\n",
       "                </table></center>"
      ],
      "text/plain": [
       "<IPython.core.display.HTML object>"
      ]
     },
     "metadata": {},
     "output_type": "display_data"
    },
    {
     "data": {
      "text/html": [
       "\n",
       "                <center><table border=none width=100% height=100%>\n",
       "                <tr>\n",
       "                <td width=33%%><center><img src=\"../files/plaid.png\" width=100%/></td>\n",
       "                <td rowspan=2  colspan=2><center><video src=\"../files/plaid.mp4\"   loop=\"1\" autoplay=\"1\" controls   type=\"video/mp4\" width=100%/></td>\n",
       "                </tr>\n",
       "                <tr>\n",
       "                <td><center><img src=\"../files/plaid_cube.png\" width=100%/></td>\n",
       "                </tr>\n",
       "                </table></center>"
      ],
      "text/plain": [
       "<IPython.core.display.HTML object>"
      ]
     },
     "metadata": {},
     "output_type": "display_data"
    },
    {
     "data": {
      "text/html": [
       "\n",
       "                <center><table border=none width=100% height=100%>\n",
       "                <tr>\n",
       "                <td width=33%%><center><img src=\"../files/plaid-V_X0_0.png\" width=100%/></td>\n",
       "                <td rowspan=2  colspan=2><center><video src=\"../files/plaid-V_X0_0.mp4\"   loop=\"1\" autoplay=\"1\" controls   type=\"video/mp4\" width=100%/></td>\n",
       "                </tr>\n",
       "                <tr>\n",
       "                <td><center><img src=\"../files/plaid-V_X0_0_cube.png\" width=100%/></td>\n",
       "                </tr>\n",
       "                </table></center>"
      ],
      "text/plain": [
       "<IPython.core.display.HTML object>"
      ]
     },
     "metadata": {},
     "output_type": "display_data"
    },
    {
     "data": {
      "text/html": [
       "\n",
       "                <center><table border=none width=100% height=100%>\n",
       "                <tr>\n",
       "                <td width=33%%><center><img src=\"../files/plaid-V_X0_5.png\" width=100%/></td>\n",
       "                <td rowspan=2  colspan=2><center><video src=\"../files/plaid-V_X0_5.mp4\"   loop=\"1\" autoplay=\"1\" controls   type=\"video/mp4\" width=100%/></td>\n",
       "                </tr>\n",
       "                <tr>\n",
       "                <td><center><img src=\"../files/plaid-V_X0_5_cube.png\" width=100%/></td>\n",
       "                </tr>\n",
       "                </table></center>"
      ],
      "text/plain": [
       "<IPython.core.display.HTML object>"
      ]
     },
     "metadata": {},
     "output_type": "display_data"
    },
    {
     "data": {
      "text/html": [
       "\n",
       "                <center><table border=none width=100% height=100%>\n",
       "                <tr>\n",
       "                <td width=33%%><center><img src=\"../files/plaid-V_X1_0.png\" width=100%/></td>\n",
       "                <td rowspan=2  colspan=2><center><video src=\"../files/plaid-V_X1_0.mp4\"   loop=\"1\" autoplay=\"1\" controls   type=\"video/mp4\" width=100%/></td>\n",
       "                </tr>\n",
       "                <tr>\n",
       "                <td><center><img src=\"../files/plaid-V_X1_0_cube.png\" width=100%/></td>\n",
       "                </tr>\n",
       "                </table></center>"
      ],
      "text/plain": [
       "<IPython.core.display.HTML object>"
      ]
     },
     "metadata": {},
     "output_type": "display_data"
    },
    {
     "data": {
      "text/html": [
       "\n",
       "                <center><table border=none width=100% height=100%>\n",
       "                <tr>\n",
       "                <td width=33%%><center><img src=\"../files/plaid-V_Y0_0.png\" width=100%/></td>\n",
       "                <td rowspan=2  colspan=2><center><video src=\"../files/plaid-V_Y0_0.mp4\"   loop=\"1\" autoplay=\"1\" controls   type=\"video/mp4\" width=100%/></td>\n",
       "                </tr>\n",
       "                <tr>\n",
       "                <td><center><img src=\"../files/plaid-V_Y0_0_cube.png\" width=100%/></td>\n",
       "                </tr>\n",
       "                </table></center>"
      ],
      "text/plain": [
       "<IPython.core.display.HTML object>"
      ]
     },
     "metadata": {},
     "output_type": "display_data"
    },
    {
     "data": {
      "text/html": [
       "\n",
       "                <center><table border=none width=100% height=100%>\n",
       "                <tr>\n",
       "                <td width=33%%><center><img src=\"../files/plaid-V_Y0_5.png\" width=100%/></td>\n",
       "                <td rowspan=2  colspan=2><center><video src=\"../files/plaid-V_Y0_5.mp4\"   loop=\"1\" autoplay=\"1\" controls   type=\"video/mp4\" width=100%/></td>\n",
       "                </tr>\n",
       "                <tr>\n",
       "                <td><center><img src=\"../files/plaid-V_Y0_5_cube.png\" width=100%/></td>\n",
       "                </tr>\n",
       "                </table></center>"
      ],
      "text/plain": [
       "<IPython.core.display.HTML object>"
      ]
     },
     "metadata": {},
     "output_type": "display_data"
    },
    {
     "data": {
      "text/html": [
       "\n",
       "                <center><table border=none width=100% height=100%>\n",
       "                <tr>\n",
       "                <td width=33%%><center><img src=\"../files/plaid-V_Y1_0.png\" width=100%/></td>\n",
       "                <td rowspan=2  colspan=2><center><video src=\"../files/plaid-V_Y1_0.mp4\"   loop=\"1\" autoplay=\"1\" controls   type=\"video/mp4\" width=100%/></td>\n",
       "                </tr>\n",
       "                <tr>\n",
       "                <td><center><img src=\"../files/plaid-V_Y1_0_cube.png\" width=100%/></td>\n",
       "                </tr>\n",
       "                </table></center>"
      ],
      "text/plain": [
       "<IPython.core.display.HTML object>"
      ]
     },
     "metadata": {},
     "output_type": "display_data"
    },
    {
     "ename": "AttributeError",
     "evalue": "module 'vispy.visuals.transforms' has no attribute 'MatrixTransform'",
     "output_type": "error",
     "traceback": [
      "\u001b[0;31m---------------------------------------------------------------------------\u001b[0m",
      "\u001b[0;31mAttributeError\u001b[0m                            Traceback (most recent call last)",
      "\u001b[0;32m/Users/lolo/pool/blog/motionclouds.invibe.net/files/experiment_competing.py\u001b[0m in \u001b[0;36m<module>\u001b[0;34m()\u001b[0m\n\u001b[1;32m     68\u001b[0m     \u001b[0mname_\u001b[0m \u001b[0;34m=\u001b[0m \u001b[0mname\u001b[0m \u001b[0;34m+\u001b[0m \u001b[0;34m'-theta_pi-over-'\u001b[0m \u001b[0;34m+\u001b[0m \u001b[0mstr\u001b[0m\u001b[0;34m(\u001b[0m\u001b[0mdiv\u001b[0m\u001b[0;34m)\u001b[0m\u001b[0;34m.\u001b[0m\u001b[0mreplace\u001b[0m\u001b[0;34m(\u001b[0m\u001b[0;34m'.'\u001b[0m\u001b[0;34m,\u001b[0m \u001b[0;34m'_'\u001b[0m\u001b[0;34m)\u001b[0m\u001b[0;34m\u001b[0m\u001b[0m\n\u001b[1;32m     69\u001b[0m     \u001b[0mz\u001b[0m \u001b[0;34m=\u001b[0m \u001b[0;34m(\u001b[0m\u001b[0mmc\u001b[0m\u001b[0;34m.\u001b[0m\u001b[0menvelope_gabor\u001b[0m\u001b[0;34m(\u001b[0m\u001b[0mfx\u001b[0m\u001b[0;34m,\u001b[0m \u001b[0mfy\u001b[0m\u001b[0;34m,\u001b[0m \u001b[0mft\u001b[0m\u001b[0;34m,\u001b[0m \u001b[0mtheta\u001b[0m\u001b[0;34m=\u001b[0m\u001b[0mnumpy\u001b[0m\u001b[0;34m.\u001b[0m\u001b[0mpi\u001b[0m\u001b[0;34m/\u001b[0m\u001b[0mdiv\u001b[0m\u001b[0;34m)\u001b[0m \u001b[0;34m+\u001b[0m \u001b[0mmc\u001b[0m\u001b[0;34m.\u001b[0m\u001b[0menvelope_gabor\u001b[0m\u001b[0;34m(\u001b[0m\u001b[0mfx\u001b[0m\u001b[0;34m,\u001b[0m \u001b[0mfy\u001b[0m\u001b[0;34m,\u001b[0m \u001b[0mft\u001b[0m\u001b[0;34m,\u001b[0m \u001b[0mtheta\u001b[0m\u001b[0;34m=\u001b[0m\u001b[0;34m-\u001b[0m\u001b[0mnumpy\u001b[0m\u001b[0;34m.\u001b[0m\u001b[0mpi\u001b[0m\u001b[0;34m/\u001b[0m\u001b[0mdiv\u001b[0m\u001b[0;34m)\u001b[0m\u001b[0;34m)\u001b[0m\u001b[0;34m\u001b[0m\u001b[0m\n\u001b[0;32m---> 70\u001b[0;31m     \u001b[0mmc\u001b[0m\u001b[0;34m.\u001b[0m\u001b[0mfigures\u001b[0m\u001b[0;34m(\u001b[0m\u001b[0mz\u001b[0m\u001b[0;34m,\u001b[0m \u001b[0mname_\u001b[0m\u001b[0;34m)\u001b[0m\u001b[0;34m\u001b[0m\u001b[0m\n\u001b[0m\u001b[1;32m     71\u001b[0m     \u001b[0mmc\u001b[0m\u001b[0;34m.\u001b[0m\u001b[0min_show_video\u001b[0m\u001b[0;34m(\u001b[0m\u001b[0mname\u001b[0m\u001b[0;34m)\u001b[0m\u001b[0;34m\u001b[0m\u001b[0m\n",
      "\u001b[0;32m/Users/lolo/pool/science/MotionClouds/MotionClouds/MotionClouds.py\u001b[0m in \u001b[0;36mfigures\u001b[0;34m(z, name, vext, do_movie, do_figs, recompute, seed, impulse, verbose, masking, do_amp, figpath, **kwargs)\u001b[0m\n\u001b[1;32m    742\u001b[0m     \u001b[0;32mif\u001b[0m \u001b[0mdo_figs\u001b[0m \u001b[0;32mand\u001b[0m \u001b[0;32mnot\u001b[0m \u001b[0mz\u001b[0m \u001b[0;32mis\u001b[0m \u001b[0;32mNone\u001b[0m\u001b[0;34m:\u001b[0m\u001b[0;34m\u001b[0m\u001b[0m\n\u001b[1;32m    743\u001b[0m         \u001b[0;32mif\u001b[0m \u001b[0mrecompute\u001b[0m \u001b[0;32mor\u001b[0m \u001b[0mcheck_if_anim_exist\u001b[0m\u001b[0;34m(\u001b[0m\u001b[0mname\u001b[0m\u001b[0;34m,\u001b[0m \u001b[0mvext\u001b[0m\u001b[0;34m=\u001b[0m\u001b[0mext\u001b[0m\u001b[0;34m)\u001b[0m\u001b[0;34m:\u001b[0m\u001b[0;34m\u001b[0m\u001b[0m\n\u001b[0;32m--> 744\u001b[0;31m             \u001b[0mvisualize\u001b[0m\u001b[0;34m(\u001b[0m\u001b[0mz\u001b[0m\u001b[0;34m,\u001b[0m \u001b[0mname\u001b[0m\u001b[0;34m=\u001b[0m\u001b[0mos\u001b[0m\u001b[0;34m.\u001b[0m\u001b[0mpath\u001b[0m\u001b[0;34m.\u001b[0m\u001b[0mjoin\u001b[0m\u001b[0;34m(\u001b[0m\u001b[0mfigpath\u001b[0m\u001b[0;34m,\u001b[0m \u001b[0mname\u001b[0m\u001b[0;34m)\u001b[0m\u001b[0;34m,\u001b[0m \u001b[0;34m**\u001b[0m\u001b[0mkwargs\u001b[0m\u001b[0;34m)\u001b[0m           \u001b[0;31m# Visualize the Fourier Spectrum\u001b[0m\u001b[0;34m\u001b[0m\u001b[0m\n\u001b[0m\u001b[1;32m    745\u001b[0m \u001b[0;34m\u001b[0m\u001b[0m\n\u001b[1;32m    746\u001b[0m     \u001b[0;32mif\u001b[0m \u001b[0mdo_movie\u001b[0m \u001b[0;32mor\u001b[0m \u001b[0mdo_figs\u001b[0m\u001b[0;34m:\u001b[0m\u001b[0;34m\u001b[0m\u001b[0m\n",
      "\u001b[0;32m/Users/lolo/pool/science/MotionClouds/MotionClouds/MotionClouds.py\u001b[0m in \u001b[0;36mvisualize\u001b[0;34m(z_in, azimuth, elevation, thresholds, opacities, fourier_label, name, ext, do_axis, do_grids, draw_projections, colorbar, f_N, f_tN, figsize, figpath, **kwargs)\u001b[0m\n\u001b[1;32m    372\u001b[0m         \u001b[0menergy_xy\u001b[0m \u001b[0;34m=\u001b[0m \u001b[0mnp\u001b[0m\u001b[0;34m.\u001b[0m\u001b[0mrot90\u001b[0m\u001b[0;34m(\u001b[0m\u001b[0mnp\u001b[0m\u001b[0;34m.\u001b[0m\u001b[0mmax\u001b[0m\u001b[0;34m(\u001b[0m\u001b[0mz\u001b[0m\u001b[0;34m,\u001b[0m \u001b[0maxis\u001b[0m\u001b[0;34m=\u001b[0m\u001b[0;36m2\u001b[0m\u001b[0;34m)\u001b[0m\u001b[0;34m[\u001b[0m\u001b[0;34m:\u001b[0m\u001b[0;34m,\u001b[0m \u001b[0;34m:\u001b[0m\u001b[0;34m:\u001b[0m\u001b[0;34m-\u001b[0m\u001b[0;36m1\u001b[0m\u001b[0;34m]\u001b[0m\u001b[0;34m,\u001b[0m \u001b[0;36m3\u001b[0m\u001b[0;34m)\u001b[0m\u001b[0;34m\u001b[0m\u001b[0m\n\u001b[1;32m    373\u001b[0m         \u001b[0mfourier_xy\u001b[0m \u001b[0;34m=\u001b[0m \u001b[0mscene\u001b[0m\u001b[0;34m.\u001b[0m\u001b[0mvisuals\u001b[0m\u001b[0;34m.\u001b[0m\u001b[0mImage\u001b[0m\u001b[0;34m(\u001b[0m\u001b[0mnp\u001b[0m\u001b[0;34m.\u001b[0m\u001b[0mrot90\u001b[0m\u001b[0;34m(\u001b[0m\u001b[0menergy_xy\u001b[0m\u001b[0;34m)\u001b[0m\u001b[0;34m,\u001b[0m \u001b[0;34m**\u001b[0m\u001b[0mopts\u001b[0m\u001b[0;34m)\u001b[0m\u001b[0;34m\u001b[0m\u001b[0m\n\u001b[0;32m--> 374\u001b[0;31m         \u001b[0mtr_xy\u001b[0m \u001b[0;34m=\u001b[0m \u001b[0mscene\u001b[0m\u001b[0;34m.\u001b[0m\u001b[0mtransforms\u001b[0m\u001b[0;34m.\u001b[0m\u001b[0mMatrixTransform\u001b[0m\u001b[0;34m(\u001b[0m\u001b[0;34m)\u001b[0m\u001b[0;34m\u001b[0m\u001b[0m\n\u001b[0m\u001b[1;32m    375\u001b[0m         \u001b[0mtr_xy\u001b[0m\u001b[0;34m.\u001b[0m\u001b[0mrotate\u001b[0m\u001b[0;34m(\u001b[0m\u001b[0;36m90\u001b[0m\u001b[0;34m,\u001b[0m \u001b[0;34m(\u001b[0m\u001b[0;36m0\u001b[0m\u001b[0;34m,\u001b[0m \u001b[0;36m0\u001b[0m\u001b[0;34m,\u001b[0m \u001b[0;36m1\u001b[0m\u001b[0;34m)\u001b[0m\u001b[0;34m)\u001b[0m\u001b[0;34m\u001b[0m\u001b[0m\n\u001b[1;32m    376\u001b[0m         \u001b[0mtr_xy\u001b[0m\u001b[0;34m.\u001b[0m\u001b[0mtranslate\u001b[0m\u001b[0;34m(\u001b[0m\u001b[0;34m(\u001b[0m\u001b[0mN_X\u001b[0m\u001b[0;34m/\u001b[0m\u001b[0;36m2\u001b[0m\u001b[0;34m,\u001b[0m \u001b[0;34m-\u001b[0m\u001b[0mN_Y\u001b[0m\u001b[0;34m/\u001b[0m\u001b[0;36m2\u001b[0m\u001b[0;34m,\u001b[0m \u001b[0;34m-\u001b[0m\u001b[0mN_frame\u001b[0m\u001b[0;34m/\u001b[0m\u001b[0;36m2\u001b[0m\u001b[0;34m)\u001b[0m\u001b[0;34m)\u001b[0m\u001b[0;34m\u001b[0m\u001b[0m\n",
      "\u001b[0;31mAttributeError\u001b[0m: module 'vispy.visuals.transforms' has no attribute 'MatrixTransform'"
     ]
    },
    {
     "name": "stdout",
     "output_type": "stream",
     "text": [
      "/Users/lolo/pool/blog/motionclouds.invibe.net/posts\n"
     ]
    }
   ],
   "source": [
    "%cd ../files\n",
    "%run experiment_competing.py\n",
    "%cd ../posts"
   ]
  },
  {
   "cell_type": "markdown",
   "metadata": {},
   "source": [
    "## a psychophysics experiment with counter-phase Motion Clouds\n",
    "\n",
    "It is easy to run a psychophysics experiment using the [PsychoPy](http://www.psychopy.org/) library. We show below a simplistic script to show a MC and then exit:"
   ]
  },
  {
   "cell_type": "code",
   "execution_count": 3,
   "metadata": {
    "collapsed": false
   },
   "outputs": [
    {
     "name": "stdout",
     "output_type": "stream",
     "text": [
      "Overwriting ../files/psychopy_simple.py\n"
     ]
    }
   ],
   "source": [
    "%%writefile ../files/psychopy_simple.py\n",
    "#!/usr/bin/env python\n",
    "\"\"\"\n",
    "\n",
    "A basic presentation in psychopy\n",
    "\n",
    "(c) Laurent Perrinet - INT/CNRS\n",
    "\n",
    "\n",
    "\"\"\"\n",
    "# width and height of your screen\n",
    "w, h = 1920, 1200\n",
    "w, h = 2560, 1440\n",
    "\n",
    "# width and height of the stimulus\n",
    "w_stim, h_stim = 1024, 1024\n",
    "\n",
    "loops = 1\n",
    "\n",
    "import MotionClouds as mc\n",
    "fx, fy, ft = mc.get_grids(mc.N_X, mc.N_Y, mc.N_frame)\n",
    "env = (mc.envelope_gabor(fx, fy, ft, V_X=1.) + mc.envelope_gabor(fx, fy, ft, V_X=-1.))\n",
    "z = 2*mc.rectif(mc.random_cloud(env), contrast=.5) -1.\n",
    "\n",
    "#from pyglet.gl import gl_info\n",
    "from psychopy import visual, core, event, logging\n",
    "logging.console.setLevel(logging.DEBUG)\n",
    "\n",
    "win = visual.Window([w, h], fullscr=True)\n",
    "stim = visual.GratingStim(win, \n",
    "        size=(w_stim, h_stim), units='pix',\n",
    "        interpolate=True,\n",
    "        mask='gauss',\n",
    "        autoLog=False)#this stim changes too much for autologging to be useful\n",
    "\n",
    "for i_frame in range(mc.N_frame * loops):\n",
    "    #creating a new stimulus every time\n",
    "    stim.setTex(z[:, :, i_frame % mc.N_frame])\n",
    "    stim.draw()\n",
    "    win.flip()\n",
    "\n",
    "win.close()\n"
   ]
  },
  {
   "cell_type": "code",
   "execution_count": 4,
   "metadata": {
    "collapsed": false
   },
   "outputs": [
    {
     "name": "stdout",
     "output_type": "stream",
     "text": [
      "/Users/laurentperrinet/pool/blog/motionclouds.invibe.net/files\n",
      "2016-11-21 09:47:00.825 Python[21683:1704885] ApplePersistenceIgnoreState: Existing state will not be touched. New state will be written to /var/folders/3p/m0g52j9j69z3gj8ktpgg1dm00000gn/T/org.python.python.savedState\n",
      "2.1400 \tWARNING \tMonitor specification not found. Creating a temporary one...\n",
      "2.1416 \tWARNING \tUser requested fullscreen with size [2560 1440], but screen is actually [1440, 900]. Using actual size\n",
      "4.3594 \tEXP \tCreated window1 = Window(allowGUI=True, allowStencil=False, autoLog=True, bitsMode=UNKNOWN, blendMode='avg', color=array([ 0.,  0.,  0.]), colorSpace='rgb', fullscr=UNKNOWN, gamma=None, lms=UNKNOWN, monitor=<psychopy.monitors.calibTools.Monitor object at 0x1095205d0>, name='window1', pos=[0, 0], screen=0, size=array([1440,  900]), stereo=False, units=u'norm', useFBO=False, useRetina=False, viewOri=0.0, viewPos=None, viewScale=None, waitBlanking=True, winType='pyglet')\n",
      "8.7605 \tEXP \twindow1: mouseVisible = True\n",
      "/Users/laurentperrinet/pool/blog/motionclouds.invibe.net/posts\n"
     ]
    }
   ],
   "source": [
    "%cd ../files\n",
    "!python2 psychopy_simple.py\n",
    "%cd ../posts"
   ]
  },
  {
   "cell_type": "markdown",
   "metadata": {},
   "source": [
    "We may now test what motion is detected when superposing 2 MCs:"
   ]
  },
  {
   "cell_type": "code",
   "execution_count": 5,
   "metadata": {
    "collapsed": false
   },
   "outputs": [
    {
     "name": "stdout",
     "output_type": "stream",
     "text": [
      "Overwriting ../files/psychopy_competing.py\n"
     ]
    }
   ],
   "source": [
    "%%writefile ../files/psychopy_competing.py\n",
    "#!/usr/bin/env python\n",
    "\"\"\"\n",
    "\n",
    "Using psychopy to perform an experiment on competing clouds\n",
    "\n",
    "(c) Laurent Perrinet - INT/CNRS\n",
    "\n",
    " See http://www.motionclouds.invibe.net/posts/instructions-for-psychophysicists.html for a small tutorial\n",
    "\n",
    "\"\"\"\n",
    "# width and height of your screen\n",
    "w, h = 1920, 1200\n",
    "w, h = 2560, 1440 # iMac 27''\n",
    "\n",
    "# width and height of the stimulus\n",
    "w_stim, h_stim = 1024, 1024\n",
    "\n",
    "print('launching experiment')\n",
    "from psychopy import visual, core, event, logging, misc\n",
    "logging.console.setLevel(logging.DEBUG)\n",
    "\n",
    "import os, numpy\n",
    "import MotionClouds as mc\n",
    "import time, datetime\n",
    "experiment = 'competing_v2_'\n",
    "print('launching experiment')\n",
    "logging.console.setLevel(logging.DEBUG)\n",
    "\n",
    "#if no file use some defaults\n",
    "info = {}\n",
    "info['observer'] = 'anonymous'\n",
    "info['screen_width'] = w\n",
    "info['screen_height'] = h\n",
    "info['nTrials'] = 5\n",
    "info['N_X'] = mc.N_X # size of image\n",
    "info['N_Y'] = mc.N_Y # size of image\n",
    "info['N_frame_total'] = 64 # a full period. in time frames\n",
    "info['N_frame'] = 64 # length of the presented period. in time frames\n",
    "info['timeStr'] = datetime.datetime.now().date().isoformat() + time.strftime(\"_%H%M\", time.localtime())\n",
    "fileName = 'data/' + experiment + info['observer'] + '_' + info['timeStr'] + '.pickle'\n",
    "\n",
    "print('generating data')\n",
    "fx, fy, ft = mc.get_grids(info['N_X'], info['N_Y'], info['N_frame_total'])\n",
    "up = 2*mc.rectif(mc.random_cloud(mc.envelope_gabor(fx, fy, ft, V_X=+.5))) - 1\n",
    "down = 2*mc.rectif(mc.random_cloud(mc.envelope_gabor(fx, fy, ft, V_X=-.5))) - 1\n",
    "\n",
    "print('go!      ')\n",
    "win = visual.Window([info['screen_width'], info['screen_height']], fullscr=True)\n",
    "\n",
    "stim = visual.GratingStim(win,\n",
    "        size=(info['screen_height'], info['screen_height']), units='pix',\n",
    "        interpolate=True,\n",
    "        mask = 'gauss',\n",
    "        autoLog=False)#this stim changes too much for autologging to be useful\n",
    "\n",
    "wait_for_response = visual.TextStim(win,\n",
    "                        text = u\"?\", units='norm', height=0.15, color='DarkSlateBlue',\n",
    "                        pos=[0., -0.], alignHoriz='center', alignVert='center' )\n",
    "wait_for_next = visual.TextStim(win,\n",
    "                        text = u\"+\", units='norm', height=0.15, color='BlanchedAlmond',\n",
    "                        pos=[0., -0.], alignHoriz='center', alignVert='center' )\n",
    "\n",
    "def getResponse():\n",
    "    event.clearEvents()#clear the event buffer to start with\n",
    "    resp = None#initially\n",
    "    while 1:#forever until we return a keypress\n",
    "        for key in event.getKeys():\n",
    "            #quit\n",
    "            if key in ['escape', 'q']:\n",
    "                win.close()\n",
    "                core.quit()\n",
    "                return None\n",
    "            #valid response - check to see if correct\n",
    "            elif key in ['down', 'up']:\n",
    "                if key in ['down'] :return -1\n",
    "                else: return 1\n",
    "            else:\n",
    "                print( \"hit DOWN or UP (or Esc) (You hit %s)\" %key)\n",
    "\n",
    "clock = core.Clock()\n",
    "FPS = 50.\n",
    "def presentStimulus(C_A, C_B):\n",
    "    \"\"\"Present stimulus\n",
    "    \"\"\"\n",
    "    phase_up = numpy.floor(numpy.random.rand() *(info['N_frame_total']-info['N_frame']))\n",
    "    phase_down = numpy.floor(numpy.random.rand() *(info['N_frame_total']-info['N_frame']))\n",
    "    clock.reset()\n",
    "    for i_frame in range(info['N_frame']): # length of the stimulus\n",
    "        stim.setTex(C_A * up[:, :, i_frame+phase_up]+C_B * down[:, :, i_frame+phase_down])\n",
    "        stim.draw()\n",
    "#        while clock.getTime() < i_frame/FPS:\n",
    "#            print clock.getTime(), i_frame/FPS\n",
    "#            print('waiting')\n",
    "        win.flip()\n",
    "\n",
    "results = numpy.zeros((2, info['nTrials']))\n",
    "for i_trial in range(info['nTrials']):\n",
    "    wait_for_next.draw()\n",
    "    win.flip()\n",
    "    core.wait(0.5)\n",
    "    C_A = numpy.random.rand() # a random number between 0 and 1\n",
    "    presentStimulus(C_A, 1. - C_A)\n",
    "    wait_for_response.draw()\n",
    "    win.flip()\n",
    "    ans = getResponse()\n",
    "    results[0, i_trial] = ans\n",
    "    results[1, i_trial] = C_A\n",
    "\n",
    "win.update()\n",
    "core.wait(0.5)\n",
    "\n",
    "win.close()\n",
    "\n",
    "#save data\n",
    "fileName = 'data/' + experiment + info['observer'] + '_' + info['timeStr'] + '.npy'\n",
    "numpy.save(fileName, results)\n",
    "misc.toFile(fileName.replace('npy', 'pickle'), info)\n",
    "\n",
    "\n",
    "core.quit() # quit"
   ]
  },
  {
   "cell_type": "code",
   "execution_count": 6,
   "metadata": {
    "collapsed": false
   },
   "outputs": [
    {
     "name": "stdout",
     "output_type": "stream",
     "text": [
      "/Users/laurentperrinet/pool/blog/motionclouds.invibe.net/files\n",
      "launching experiment\n",
      "2016-11-21 09:47:25.929 Python[21721:1705469] ApplePersistenceIgnoreState: Existing state will not be touched. New state will be written to /var/folders/3p/m0g52j9j69z3gj8ktpgg1dm00000gn/T/org.python.python.savedState\n",
      "launching experiment\n",
      "generating data\n",
      "go!      \n",
      "psychopy_competing.py:89: VisibleDeprecationWarning: using a non-integer number instead of an integer will result in an error in the future\n",
      "  stim.setTex(C_A * up[:, :, i_frame+phase_up]+C_B * down[:, :, i_frame+phase_down])\n",
      "44.2654 \tWARNING \tMonitor specification not found. Creating a temporary one...\n",
      "44.2670 \tWARNING \tUser requested fullscreen with size [2560 1440], but screen is actually [1440, 900]. Using actual size\n",
      "62.4625 \tEXP \tCreated window1 = Window(allowGUI=True, allowStencil=False, autoLog=True, bitsMode=UNKNOWN, blendMode='avg', color=array([ 0.,  0.,  0.]), colorSpace='rgb', fullscr=UNKNOWN, gamma=None, lms=UNKNOWN, monitor=<psychopy.monitors.calibTools.Monitor object at 0x10c68bb10>, name='window1', pos=[0, 0], screen=0, size=array([1440,  900]), stereo=False, units=u'norm', useFBO=False, useRetina=False, viewOri=0.0, viewPos=None, viewScale=None, waitBlanking=True, winType='pyglet')\n",
      "62.8206 \tEXP \tCreated unnamed TextStim = TextStim(alignHoriz='center', alignVert='center', antialias=True, autoLog=True, bold=False, color='DarkSlateBlue', colorSpace='named', contrast=1.0, depth=0, flipHoriz=False, flipVert=False, font='', fontFiles=[], height=0.15, italic=False, name='unnamed TextStim', opacity=1.0, ori=0.0, pos=array([ 0., -0.]), rgb=array([  72.,   61.,  139.]), text=u'?', units='norm', win=Window(...), wrapWidth=1)\n",
      "62.9088 \tEXP \tCreated unnamed TextStim = TextStim(alignHoriz='center', alignVert='center', antialias=True, autoLog=True, bold=False, color='BlanchedAlmond', colorSpace='named', contrast=1.0, depth=0, flipHoriz=False, flipVert=False, font='', fontFiles=[], height=0.15, italic=False, name='unnamed TextStim', opacity=1.0, ori=0.0, pos=array([ 0., -0.]), rgb=array([ 255.,  235.,  205.]), text=u'+', units='norm', win=Window(...), wrapWidth=1)\n",
      "404.5721 \tDATA \tKeypress: escape\n",
      "404.5723 \tEXP \twindow1: mouseVisible = True\n",
      "/Users/laurentperrinet/pool/blog/motionclouds.invibe.net/posts\n"
     ]
    }
   ],
   "source": [
    "%cd ../files\n",
    "!python2 psychopy_competing.py\n",
    "%cd ../posts"
   ]
  },
  {
   "cell_type": "markdown",
   "metadata": {},
   "source": [
    "## Analysis of the Discrimination Experiment"
   ]
  },
  {
   "cell_type": "markdown",
   "metadata": {},
   "source": [
    "In the ``psychopy_competition.py`` script, we implemented an experiment to test whether one could discriminate the dominating motion in a sum of two motion clouds in opposite directions."
   ]
  },
  {
   "cell_type": "markdown",
   "metadata": {},
   "source": [
    "Herein, we analyse the data that was collected over different sessions and try to draw some conclusions."
   ]
  },
  {
   "cell_type": "code",
   "execution_count": 7,
   "metadata": {
    "collapsed": false
   },
   "outputs": [],
   "source": [
    "import numpy as np\n",
    "np.set_printoptions(precision=3, suppress=True)\n",
    "import pylab\n",
    "import matplotlib.pyplot as plt\n",
    "%matplotlib inline"
   ]
  },
  {
   "cell_type": "markdown",
   "metadata": {},
   "source": [
    "## Analysis, version 1"
   ]
  },
  {
   "cell_type": "markdown",
   "metadata": {},
   "source": [
    "In a first version of the experiment, we only stored the results in a numpy file:"
   ]
  },
  {
   "cell_type": "code",
   "execution_count": 8,
   "metadata": {
    "collapsed": false
   },
   "outputs": [
    {
     "name": "stdout",
     "output_type": "stream",
     "text": [
      "../files/data/competing_v1_bruno_Dec_14_1210.npy\r\n",
      "../files/data/competing_v1_lup_Dec_12_1003.npy\r\n",
      "../files/data/competing_v1_lup_Dec_12_1013.npy\r\n",
      "../files/data/competing_v1_lup_Dec_14_1201.npy\r\n",
      "../files/data/competing_v1_meduz_Dec_14_1204.npy\r\n"
     ]
    }
   ],
   "source": [
    "!ls ../files/data/competing_v1_*npy"
   ]
  },
  {
   "cell_type": "code",
   "execution_count": 9,
   "metadata": {
    "collapsed": false
   },
   "outputs": [
    {
     "name": "stdout",
     "output_type": "stream",
     "text": [
      "experiment  ../files/data/competing_v1_bruno_Dec_14_1210.npy , # trials= 50\n",
      "experiment  ../files/data/competing_v1_lup_Dec_12_1003.npy , # trials= 50\n",
      "experiment  ../files/data/competing_v1_lup_Dec_12_1013.npy , # trials= 50\n",
      "experiment  ../files/data/competing_v1_lup_Dec_14_1201.npy , # trials= 10\n",
      "experiment  ../files/data/competing_v1_meduz_Dec_14_1204.npy , # trials= 50\n"
     ]
    },
    {
     "data": {
      "image/png": "[encoded data removed]",
      "text/plain": [
       "<matplotlib.figure.Figure at 0x10820bfd0>"
      ]
     },
     "metadata": {},
     "output_type": "display_data"
    }
   ],
   "source": [
    "import glob\n",
    "fig = plt.figure()\n",
    "ax = fig.add_subplot(111)\n",
    "for fn in glob.glob('../files/data/competing_v1_*npy'):\n",
    "    results = np.load(fn)\n",
    "    print ('experiment ', fn, ', # trials=', results.shape[1])\n",
    "    ax.scatter(results[1, :], results[0, :])\n",
    "_ = ax.axis([0., 1., -1.1, 1.1])\n",
    "_ = ax.set_xlabel('contrast')\n",
    "_ = ax.set_ylabel('perceived direction')"
   ]
  },
  {
   "cell_type": "code",
   "execution_count": 10,
   "metadata": {
    "collapsed": false
   },
   "outputs": [
    {
     "data": {
      "image/png": "[encoded data removed]",
      "text/plain": [
       "<matplotlib.figure.Figure at 0x108441b70>"
      ]
     },
     "metadata": {},
     "output_type": "display_data"
    }
   ],
   "source": [
    "alpha = .3\n",
    "fig = plt.figure(figsize=(12,5))\n",
    "ax1 = fig.add_subplot(121)\n",
    "ax2 = fig.add_subplot(122)\n",
    "data = []\n",
    "for fn in glob.glob('../files/data/competing_v1_*npy'):\n",
    "    results = np.load(fn)\n",
    "    data_ = np.empty(results.shape)\n",
    "    # lower stronger, detected lower = CORRECT is 1\n",
    "    ax1.scatter(results[1, results[1, :]<.5], \n",
    "                1.*(results[0, results[1, :]<.5]==-1), \n",
    "                c='r', alpha=alpha)\n",
    "    # copying data: contrast (from .5 to 1), correct \n",
    "    data_[0, results[1, :]<.5] = 1. - results[1, results[1, :]<.5]\n",
    "    data_[1, results[1, :]<.5] = 1.*(results[0, results[1, :]<.5]==-1)\n",
    "    # upper stronger, detected lower = INCORRECT is 1\n",
    "    ax1.scatter(results[1, results[1, :]>.5], \n",
    "                1.*(results[0, results[1, :]>.5]==-1), \n",
    "                c='b', alpha=alpha)\n",
    "    # lower stronger, detected upper = INCORRECT is 1\n",
    "    ax2.scatter(results[1, results[1, :]<.5], \n",
    "                1.*(results[0, results[1, :]<.5]==1), \n",
    "                c='b', alpha=alpha, marker='x')\n",
    "    # upper stronger, detected upper = CORRECT is 1\n",
    "    ax2.scatter(results[1, results[1, :]>.5], \n",
    "                1.*(results[0, results[1, :]>.5]==1), \n",
    "                c='r', alpha=alpha, marker='x')\n",
    "    # copying data: contrast (from .5 to 1), correct \n",
    "    data_[0, results[1, :]>=.5] = results[1, results[1, :]>=.5]\n",
    "    data_[1, results[1, :]>=.5] = 1.*(results[0, results[1, :]>=.5]==1)\n",
    "    data.append(data_)\n",
    "\n",
    "for ax in [ax1, ax2]:\n",
    "    ax.axis([0., 1., -.1, 1.1])\n",
    "    _ = ax.set_xlabel('contrast')\n",
    "_ = ax1.set_ylabel('detected lower')\n",
    "_ = ax1.legend(['lower', 'upper'], loc='right')\n",
    "_ = ax2.set_ylabel('detected upper')\n",
    "_ = ax2.legend(['lower', 'upper'], loc='right')"
   ]
  },
  {
   "cell_type": "markdown",
   "metadata": {},
   "source": [
    "(note the subplots are equivalent up to a flip)"
   ]
  },
  {
   "cell_type": "markdown",
   "metadata": {},
   "source": [
    "One could not fit psychometric curves for this 2AFC. See for instance https://www.ncbi.nlm.nih.gov/pmc/articles/PMC3110332/"
   ]
  },
  {
   "cell_type": "markdown",
   "metadata": {},
   "source": [
    "## TODO: look at http://nbviewer.ipython.org/github/arokem/teach_optimization/blob/master/optimization.ipynb"
   ]
  },
  {
   "cell_type": "markdown",
   "metadata": {},
   "source": [
    "let's explore another way:"
   ]
  },
  {
   "cell_type": "code",
   "execution_count": 11,
   "metadata": {
    "collapsed": false
   },
   "outputs": [],
   "source": [
    "import numpy as np\n",
    "import pylab\n",
    "from scipy.optimize import curve_fit\n",
    " \n",
    "def sigmoid(c, c0, k):\n",
    "    y = 1 / (1 + np.exp(-k*(c-c0)))\n",
    "    return y\n",
    " "
   ]
  },
  {
   "cell_type": "code",
   "execution_count": 12,
   "metadata": {
    "collapsed": false
   },
   "outputs": [
    {
     "name": "stdout",
     "output_type": "stream",
     "text": [
      "../files/data/competing_v2_anonymous_2015-07-01.npy\r\n",
      "../files/data/competing_v2_anonymous_2015-07-01.pickle\r\n",
      "../files/data/competing_v2_anonymous_2015-07-01_1344.npy\r\n",
      "../files/data/competing_v2_anonymous_2015-07-01_1344.pickle\r\n",
      "../files/data/competing_v2_jean_Sep_03_1536.npy\r\n",
      "../files/data/competing_v2_jean_Sep_03_1536.pickle\r\n",
      "../files/data/competing_v2_laurent_Sep_17_1522.npy\r\n",
      "../files/data/competing_v2_laurent_Sep_17_1522.pickle\r\n"
     ]
    }
   ],
   "source": [
    "!ls ../files/data/competing_v2_*"
   ]
  },
  {
   "cell_type": "code",
   "execution_count": 13,
   "metadata": {
    "collapsed": false
   },
   "outputs": [
    {
     "name": "stdout",
     "output_type": "stream",
     "text": [
      "[ 0.291  6.067]\n",
      "[  0.345  13.492]\n",
      "[  0.287  39.2  ]\n",
      "[   0.637  160.796]\n",
      "[  0.362  13.633]\n"
     ]
    },
    {
     "name": "stderr",
     "output_type": "stream",
     "text": [
      "/usr/local/lib/python3.5/site-packages/matplotlib/axes/_axes.py:531: UserWarning: No labelled objects found. Use label='...' kwarg on individual plots.\n",
      "  warnings.warn(\"No labelled objects found. \"\n"
     ]
    },
    {
     "data": {
      "image/png": "[encoded data removed]",
      "text/plain": [
       "<matplotlib.figure.Figure at 0x159fd2588>"
      ]
     },
     "metadata": {},
     "output_type": "display_data"
    }
   ],
   "source": [
    "for fn in glob.glob('../files/data/competing_v1_*npy'):\n",
    "    results = np.load(fn)\n",
    "    cdata, ydata = results[1, :], .5*results[0, : ]+.5\n",
    "    pylab.plot(cdata, ydata, 'o')\n",
    "\n",
    "    popt, pcov = curve_fit(sigmoid, cdata, ydata)\n",
    "    print (popt)\n",
    "    c = np.linspace(0, 1, 50)\n",
    "    y = sigmoid(c, *popt)\n",
    "    pylab.plot(c, y)\n",
    "    \n",
    "pylab.ylim(-.05, 1.05)\n",
    "pylab.legend(loc='best')"
   ]
  },
  {
   "cell_type": "markdown",
   "metadata": {},
   "source": [
    "## Analysis, version 2"
   ]
  },
  {
   "cell_type": "markdown",
   "metadata": {},
   "source": [
    "In the second version, we also stored some information about the experiment"
   ]
  },
  {
   "cell_type": "code",
   "execution_count": 17,
   "metadata": {
    "collapsed": false
   },
   "outputs": [
    {
     "name": "stdout",
     "output_type": "stream",
     "text": [
      "{'nTrials': 5, 'N_frame_total': 64, 'timeStr': '2015-07-01', 'N_Y': 256, 'N_X': 256, 'N_frame': 64, 'screen_width': 2560, 'screen_height': 1440, 'observer': 'anonymous'}\n",
      "{'nTrials': 5, 'N_frame_total': 64, 'timeStr': '2015-07-01_1344', 'N_Y': 256, 'N_X': 256, 'N_frame': 64, 'screen_width': 2560, 'screen_height': 1440, 'observer': 'anonymous'}\n",
      "{'nTrials': 50, 'N_frame_total': 128, 'timeStr': 'Sep_03_1536', 'N_Y': 128, 'N_X': 128, 'N_frame': 128, 'screen_width': 2560, 'screen_height': 1440, 'observer': 'jean'}\n",
      "{'nTrials': 50, 'N_frame_total': 128, 'timeStr': 'Sep_17_1522', 'N_Y': 128, 'N_X': 128, 'N_frame': 128, 'screen_width': 2560, 'screen_height': 1440, 'observer': 'laurent'}\n"
     ]
    },
    {
     "name": "stderr",
     "output_type": "stream",
     "text": [
      "/usr/local/lib/python3.5/site-packages/matplotlib/axes/_axes.py:531: UserWarning: No labelled objects found. Use label='...' kwarg on individual plots.\n",
      "  warnings.warn(\"No labelled objects found. \"\n"
     ]
    },
    {
     "data": {
      "image/png": "[encoded data removed]",
      "text/plain": [
       "<matplotlib.figure.Figure at 0x15a2a5780>"
      ]
     },
     "metadata": {},
     "output_type": "display_data"
    }
   ],
   "source": [
    "import pickle\n",
    "#from psychopy import misc\n",
    "mean, slope = [], []\n",
    "for fn in glob.glob('../files/data/competing_v2_*npy'):\n",
    "    results = np.load(fn)\n",
    "    #data = misc.fromFile(fn.replace('npy', 'pickle'))\n",
    "    with open(fn.replace('npy', 'pickle'), 'rb') as f: data = pickle.load(f)\n",
    "    print (data)\n",
    "    cdata, ydata = results[1, :], .5*results[0, : ]+.5\n",
    "    pylab.plot(cdata, ydata, 'o')\n",
    "\n",
    "    popt, pcov = curve_fit(sigmoid, cdata, ydata)\n",
    "    mean.append(popt[0])\n",
    "    slope.append(popt[1])\n",
    "    c = np.linspace(0, 1, 50)\n",
    "    y = sigmoid(c, *popt)\n",
    "    pylab.plot(c, y)\n",
    "\n",
    "pylab.text(0.05, 0.8, 'mean : %0.2f , slope : %0.2f ' %(np.mean(mean), np.mean(slope)))\n",
    "pylab.ylim(-.05, 1.05)\n",
    "pylab.legend(loc='best')"
   ]
  },
  {
   "cell_type": "code",
   "execution_count": null,
   "metadata": {
    "collapsed": true
   },
   "outputs": [],
   "source": []
  }
 ],
 "metadata": {
  "kernelspec": {
   "display_name": "Python 3",
   "language": "python",
   "name": "python3"
  },
  "language_info": {
   "codemirror_mode": {
    "name": "ipython",
    "version": 3
   },
   "file_extension": ".py",
   "mimetype": "text/x-python",
   "name": "python",
   "nbconvert_exporter": "python",
   "pygments_lexer": "ipython3",
   "version": "3.6.0"
  }
 },
 "nbformat": 4,
 "nbformat_minor": 0
}
