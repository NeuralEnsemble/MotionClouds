{
 "cells": [
  {
   "cell_type": "markdown",
   "metadata": {},
   "source": [
    "# MotionClouds\n",
    "\n",
    "**MotionClouds** are random dynamic stimuli optimized to study motion perception.\n",
    "\n",
    "Notably, this method was used in the following paper:\n",
    "\n",
    "* Claudio Simoncini, Laurent U. Perrinet, Anna Montagnini, Pascal Mamassian, Guillaume S. Masson. _More is not always better: dissociation between perception and action explained by adaptive gain control._ [**Nature Neuroscience**](http://www.nature.com/neuro/journal/v15/n11/full/nn.3229.html), 2012 [URL](https://laurentperrinet.github.io/publication/simoncini-12)\n",
    "\n",
    "In this notebook, we describe the scripts used to generate such stimuli.\n",
    "\n",
    "\n",
    "<!-- TEASER_END -->\n",
    "\n"
   ]
  },
  {
   "cell_type": "code",
   "execution_count": 1,
   "metadata": {
    "collapsed": false
   },
   "outputs": [
    {
     "name": "stdout",
     "output_type": "stream",
     "text": [
      "Overwriting ../files/experiment_B_sf.py\n"
     ]
    }
   ],
   "source": [
    "%%writefile ../files/experiment_B_sf.py\n",
    "\n",
    "#!/usr/bin/env python\n",
    "\"\"\"\n",
    "\n",
    "Testing different spatial frequency bandwidths\n",
    "\n",
    "(c) Laurent Perrinet - INT/CNRS\n",
    "\n",
    "This is the basis for the following paper:\n",
    "\n",
    "    Claudio Simoncini, Laurent U. Perrinet, Anna Montagnini, Pascal Mamassian, Guillaume S. Masson. \n",
    "    More is not always better: dissociation between perception and action explained by adaptive gain control. \n",
    "    Nature Neuroscience, 2012.\n",
    "    https://laurentperrinet.github.io/publication/simoncini-12\n",
    "\n",
    "\n",
    "\"\"\"\n",
    "\n",
    "import MotionClouds as mc\n",
    "mc.figpath = '../files/'\n",
    "import numpy as np\n",
    "name = 'Simoncini12'\n",
    "\n",
    "DEBUG = False\n",
    "\n",
    "# uncomment to preview movies\n",
    "#ext, display = None, True\n",
    "\n",
    "#initialize\n",
    "fx, fy, ft = mc.get_grids(mc.N_X, mc.N_Y, mc.N_frame)\n",
    "\n",
    "# explore parameters\n",
    "for B_sf in [0.025, 0.05, 0.1, 0.2, 0.4, 0.8]:\n",
    "    name_ = name + '-B_sf' + str(B_sf).replace('.', '_')\n",
    "    z = mc.envelope_gabor(fx, fy, ft, B_sf=B_sf, B_theta=np.inf, alpha=1.)\n",
    "    mc.figures(z, name_)\n",
    "    mc.in_show_video(name_)\n",
    "    \n",
    "\n",
    "if DEBUG: # control enveloppe's shape\n",
    "\n",
    "    z_low = mc.envelope_gabor(fx, fy, ft, B_sf=0.037, loggabor=False)\n",
    "    z_high = mc.envelope_gabor(fx, fy, ft, B_sf=0.15, loggabor=False)\n",
    "\n",
    "    import pylab, numpy\n",
    "    pylab.clf()\n",
    "    fig = pylab.figure(figsize=(12, 12))\n",
    "    a1 = fig.add_subplot(111)\n",
    "    a1.contour(numpy.fliplr(z_low[:mc.N_X/2, mc.N_Y/2, mc.N_frame/2:].T), [z_low.max()*.5], colors='red')\n",
    "    a1.contour(numpy.fliplr(z_high[:mc.N_X/2, mc.N_Y/2, mc.N_frame/2:].T), [z_high.max()*.5], colors='blue')\n",
    "    a1.set_xlabel('spatial frequency')\n",
    "    a1.set_ylabel('temporal frequency')\n",
    "    fig.savefig(mc.figpath + name + '_envelope_overlap.pdf')\n",
    "\n",
    "if DEBUG:\n",
    "    # checking for different frequencies\n",
    "    for sf_0 in [0.1 , 0.2, 0.3, 0.8]:\n",
    "        name_ = name + '-sf_0' + str(sf_0).replace('.', '_')\n",
    "        z = mc.envelope_gabor(fx, fy, ft, sf_0=sf_0, alpha=1.)\n",
    "        mc.figures(z, name_)\n",
    "        mc.in_show_video(name_)\n",
    "\n",
    "    # explore different speeds than (V_X = 1, V_Y =0)\n",
    "    for V_X in [1./4, 1./2 , 1. , 2.0]:\n",
    "        name_ = name + '-V_X' + str(V_X).replace('.', '_')\n",
    "        z = mc.envelope_gabor(fx, fy, ft, V_X=V_X, alpha=1.)\n",
    "        mc.visualize(z, name=name_)\n",
    "        mc.anim_save(mc.rectif(mc.random_cloud(z)), name_)\n",
    "\n",
    "    for V_Y in [0.5 , 1.0 , 2.0]:\n",
    "        name_ = name + '-V_Y' + str(V_Y).replace('.', '_')\n",
    "        z = mc.envelope_gabor(fx, fy, ft , V_Y=V_Y)\n",
    "        mc.figures(z, name_)\n",
    "        mc.in_show_video(name_)\n",
    "\n",
    "\n",
    "    # same stimulus but with different seeds\n",
    "    for seed in [123456, 123457, 123458, 123459]:\n",
    "        name_ = name + '-seed' + str(seed)\n",
    "        z = mc.rectif(mc.random_cloud(mc.envelope_gabor(fx, fy, ft), seed=seed, alpha=1.))\n",
    "        mc.figures(z, name_)\n",
    "        mc.in_show_video(name_)\n",
    "\n",
    "\n",
    "    # checking for different frequencies\n",
    "    for sf_0 in [0.1 , 0.2, 0.3, 0.8]:\n",
    "        for B_sf in [0.025, 0.05, 0.1, 0.2, 0.4, 0.8]:\n",
    "            name_ = name + '-sf_0' + str(sf_0).replace('.', '_')  + '-B_sf' + str(B_sf).replace('.', '_')\n",
    "            z = mc.envelope_gabor(fx, fy, ft, sf_0=sf_0, B_sf=B_sf, alpha=1.)\n",
    "            mc.figures(z, name_)\n",
    "            mc.in_show_video(name_)"
   ]
  },
  {
   "cell_type": "code",
   "execution_count": 2,
   "metadata": {
    "collapsed": false
   },
   "outputs": [
    {
     "data": {
      "text/html": [
       "\n",
       "                <center><table border=none width=100% height=100%>\n",
       "                <tr>\n",
       "                <td width=33%%><center><img src=\"../files/Simoncini12-B_sf0_025.png\" width=100%/></td>\n",
       "                <td rowspan=2  colspan=2><center><video src=\"../files/Simoncini12-B_sf0_025.mp4\"   loop=\"1\" autoplay=\"1\" controls   type=\"video/mp4\" width=100%/></td>\n",
       "                </tr>\n",
       "                <tr>\n",
       "                <td><center><img src=\"../files/Simoncini12-B_sf0_025_cube.png\" width=100%/></td>\n",
       "                </tr>\n",
       "                </table></center>"
      ],
      "text/plain": [
       "<IPython.core.display.HTML object>"
      ]
     },
     "metadata": {},
     "output_type": "display_data"
    },
    {
     "data": {
      "text/html": [
       "\n",
       "                <center><table border=none width=100% height=100%>\n",
       "                <tr>\n",
       "                <td width=33%%><center><img src=\"../files/Simoncini12-B_sf0_05.png\" width=100%/></td>\n",
       "                <td rowspan=2  colspan=2><center><video src=\"../files/Simoncini12-B_sf0_05.mp4\"   loop=\"1\" autoplay=\"1\" controls   type=\"video/mp4\" width=100%/></td>\n",
       "                </tr>\n",
       "                <tr>\n",
       "                <td><center><img src=\"../files/Simoncini12-B_sf0_05_cube.png\" width=100%/></td>\n",
       "                </tr>\n",
       "                </table></center>"
      ],
      "text/plain": [
       "<IPython.core.display.HTML object>"
      ]
     },
     "metadata": {},
     "output_type": "display_data"
    },
    {
     "data": {
      "text/html": [
       "\n",
       "                <center><table border=none width=100% height=100%>\n",
       "                <tr>\n",
       "                <td width=33%%><center><img src=\"../files/Simoncini12-B_sf0_1.png\" width=100%/></td>\n",
       "                <td rowspan=2  colspan=2><center><video src=\"../files/Simoncini12-B_sf0_1.mp4\"   loop=\"1\" autoplay=\"1\" controls   type=\"video/mp4\" width=100%/></td>\n",
       "                </tr>\n",
       "                <tr>\n",
       "                <td><center><img src=\"../files/Simoncini12-B_sf0_1_cube.png\" width=100%/></td>\n",
       "                </tr>\n",
       "                </table></center>"
      ],
      "text/plain": [
       "<IPython.core.display.HTML object>"
      ]
     },
     "metadata": {},
     "output_type": "display_data"
    },
    {
     "data": {
      "text/html": [
       "\n",
       "                <center><table border=none width=100% height=100%>\n",
       "                <tr>\n",
       "                <td width=33%%><center><img src=\"../files/Simoncini12-B_sf0_2.png\" width=100%/></td>\n",
       "                <td rowspan=2  colspan=2><center><video src=\"../files/Simoncini12-B_sf0_2.mp4\"   loop=\"1\" autoplay=\"1\" controls   type=\"video/mp4\" width=100%/></td>\n",
       "                </tr>\n",
       "                <tr>\n",
       "                <td><center><img src=\"../files/Simoncini12-B_sf0_2_cube.png\" width=100%/></td>\n",
       "                </tr>\n",
       "                </table></center>"
      ],
      "text/plain": [
       "<IPython.core.display.HTML object>"
      ]
     },
     "metadata": {},
     "output_type": "display_data"
    },
    {
     "data": {
      "text/html": [
       "\n",
       "                <center><table border=none width=100% height=100%>\n",
       "                <tr>\n",
       "                <td width=33%%><center><img src=\"../files/Simoncini12-B_sf0_4.png\" width=100%/></td>\n",
       "                <td rowspan=2  colspan=2><center><video src=\"../files/Simoncini12-B_sf0_4.mp4\"   loop=\"1\" autoplay=\"1\" controls   type=\"video/mp4\" width=100%/></td>\n",
       "                </tr>\n",
       "                <tr>\n",
       "                <td><center><img src=\"../files/Simoncini12-B_sf0_4_cube.png\" width=100%/></td>\n",
       "                </tr>\n",
       "                </table></center>"
      ],
      "text/plain": [
       "<IPython.core.display.HTML object>"
      ]
     },
     "metadata": {},
     "output_type": "display_data"
    },
    {
     "data": {
      "text/html": [
       "\n",
       "                <center><table border=none width=100% height=100%>\n",
       "                <tr>\n",
       "                <td width=33%%><center><img src=\"../files/Simoncini12-B_sf0_8.png\" width=100%/></td>\n",
       "                <td rowspan=2  colspan=2><center><video src=\"../files/Simoncini12-B_sf0_8.mp4\"   loop=\"1\" autoplay=\"1\" controls   type=\"video/mp4\" width=100%/></td>\n",
       "                </tr>\n",
       "                <tr>\n",
       "                <td><center><img src=\"../files/Simoncini12-B_sf0_8_cube.png\" width=100%/></td>\n",
       "                </tr>\n",
       "                </table></center>"
      ],
      "text/plain": [
       "<IPython.core.display.HTML object>"
      ]
     },
     "metadata": {},
     "output_type": "display_data"
    }
   ],
   "source": [
    "%run ../files/experiment_B_sf.py"
   ]
  }
 ],
 "metadata": {
  "kernelspec": {
   "display_name": "Python 3",
   "language": "python",
   "name": "python3"
  },
  "language_info": {
   "codemirror_mode": {
    "name": "ipython",
    "version": 3
   },
   "file_extension": ".py",
   "mimetype": "text/x-python",
   "name": "python",
   "nbconvert_exporter": "python",
   "pygments_lexer": "ipython3",
   "version": "3.5.2"
  }
 },
 "nbformat": 4,
 "nbformat_minor": 0
}
