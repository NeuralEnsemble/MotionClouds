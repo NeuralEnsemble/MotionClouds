{
 "cells": [
  {
   "cell_type": "markdown",
   "metadata": {},
   "source": [
    "# Exploring colored Motion Clouds"
   ]
  },
  {
   "cell_type": "markdown",
   "metadata": {},
   "source": [
    "By construction, Motion Clouds are grayscale:"
   ]
  },
  {
   "cell_type": "code",
   "execution_count": 1,
   "metadata": {
    "collapsed": false
   },
   "outputs": [],
   "source": [
    "import os\n",
    "import numpy as np\n",
    "import MotionClouds as mc\n",
    "fx, fy, ft = mc.get_grids(mc.N_X, mc.N_Y, mc.N_frame)\n",
    "name = 'color'"
   ]
  },
  {
   "cell_type": "code",
   "execution_count": 2,
   "metadata": {
    "collapsed": false
   },
   "outputs": [
    {
     "data": {
      "text/html": [
       "\n",
       "            <center><table border=none width=100% height=100%>\n",
       "            <tr> <td width=100%><center><video  loop=\"1\" autoplay=\"1\" controls  src=\"../files/color_gray.mp4\" type=\"video/mp4\"  width=100%\\>\n",
       "            </td></tr></table></center>"
      ],
      "text/plain": [
       "<IPython.core.display.HTML object>"
      ]
     },
     "metadata": {},
     "output_type": "display_data"
    }
   ],
   "source": [
    "env = mc.envelope_gabor(fx, fy, ft, V_X=0., V_Y=0.)\n",
    "mc.figures(env, name + '_gray', do_figs=False)\n",
    "mc.in_show_video(name + '_gray')"
   ]
  },
  {
   "cell_type": "markdown",
   "metadata": {},
   "source": [
    "However it is not hard to imagine extending them to the color space. A first option is to create a diferent motion cloud for each channel:"
   ]
  },
  {
   "cell_type": "code",
   "execution_count": 3,
   "metadata": {
    "collapsed": false
   },
   "outputs": [
    {
     "data": {
      "text/html": [
       "\n",
       "            <center><table border=none width=100% height=100%>\n",
       "            <tr> <td width=100%><center><video  loop=\"1\" autoplay=\"1\" controls  src=\"../files/color_color.mp4\" type=\"video/mp4\"  width=100%\\>\n",
       "            </td></tr></table></center>"
      ],
      "text/plain": [
       "<IPython.core.display.HTML object>"
      ]
     },
     "metadata": {},
     "output_type": "display_data"
    }
   ],
   "source": [
    "colored_MC = np.zeros((env.shape[0], env.shape[1], 3, env.shape[2]))\n",
    "\n",
    "for i in range(3):\n",
    "    colored_MC[:, :, i, :] = mc.rectif(mc.random_cloud(mc.envelope_gabor(fx, fy, ft, V_X=0., V_Y=0.)))\n",
    "\n",
    "mc.anim_save(colored_MC, os.path.join(mc.figpath, name + '_color'))\n",
    "mc.in_show_video(name + '_color')"
   ]
  },
  {
   "cell_type": "markdown",
   "metadata": {},
   "source": [
    "Note that the average luminance is also a random cloud:"
   ]
  },
  {
   "cell_type": "code",
   "execution_count": 4,
   "metadata": {
    "collapsed": false
   },
   "outputs": [
    {
     "data": {
      "text/html": [
       "\n",
       "            <center><table border=none width=100% height=100%>\n",
       "            <tr> <td width=100%><center><video  loop=\"1\" autoplay=\"1\" controls  src=\"../files/color_gray2.mp4\" type=\"video/mp4\"  width=100%\\>\n",
       "            </td></tr></table></center>"
      ],
      "text/plain": [
       "<IPython.core.display.HTML object>"
      ]
     },
     "metadata": {},
     "output_type": "display_data"
    }
   ],
   "source": [
    "mc.anim_save(mc.rectif(colored_MC.sum(axis=2)), os.path.join(mc.figpath, name + '_gray2'))\n",
    "mc.in_show_video(name + '_gray2')"
   ]
  },
  {
   "cell_type": "markdown",
   "metadata": {},
   "source": [
    "We may create a strictly isoluminant cloud:"
   ]
  },
  {
   "cell_type": "code",
   "execution_count": 5,
   "metadata": {
    "collapsed": false
   },
   "outputs": [
    {
     "data": {
      "text/html": [
       "\n",
       "            <center><table border=none width=100% height=100%>\n",
       "            <tr> <td width=100%><center><video  loop=\"1\" autoplay=\"1\" controls  src=\"../files/color_isocolor.mp4\" type=\"video/mp4\"  width=100%\\>\n",
       "            </td></tr></table></center>"
      ],
      "text/plain": [
       "<IPython.core.display.HTML object>"
      ]
     },
     "metadata": {},
     "output_type": "display_data"
    }
   ],
   "source": [
    "luminance = colored_MC.sum(axis=2)[:, :, np.newaxis, :]\n",
    "mc.anim_save(colored_MC/luminance, os.path.join(mc.figpath, name + '_isocolor'))\n",
    "mc.in_show_video(name + '_isocolor')"
   ]
  },
  {
   "cell_type": "markdown",
   "metadata": {},
   "source": [
    "There are now many more possibilities, such as \n",
    "- weighting the different R, G and B channels to obtain a better tuning to psychophysics,\n",
    "- let only the predominant channels be activated (like the one corresponding to the red and green channels which correspond to the maximal responses of cones)."
   ]
  }
 ],
 "metadata": {
  "kernelspec": {
   "display_name": "Python 3",
   "language": "python",
   "name": "python3"
  },
  "language_info": {
   "codemirror_mode": {
    "name": "ipython",
    "version": 3
   },
   "file_extension": ".py",
   "mimetype": "text/x-python",
   "name": "python",
   "nbconvert_exporter": "python",
   "pygments_lexer": "ipython3",
   "version": "3.5.2"
  }
 },
 "nbformat": 4,
 "nbformat_minor": 0
}
