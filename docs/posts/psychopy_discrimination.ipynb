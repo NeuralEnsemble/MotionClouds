{
 "cells": [
  {
   "cell_type": "markdown",
   "metadata": {},
   "source": [
    "# A discrimination experiment"
   ]
  },
  {
   "cell_type": "code",
   "execution_count": 1,
   "metadata": {
    "collapsed": false
   },
   "outputs": [
    {
     "name": "stdout",
     "output_type": "stream",
     "text": [
      "Overwriting ../files/psychopy_discrimination.py\n"
     ]
    }
   ],
   "source": [
    "%%writefile ../files/psychopy_discrimination.py\n",
    "\n",
    "#!/usr/bin/env python\n",
    "\"\"\"\n",
    "\n",
    "Using psychopy to perform an experiment on discriminating clouds\n",
    "\n",
    "(c) Laurent Perrinet - INT/CNRS & Jonathan Vacher - CeReMaDe\n",
    "\n",
    "\"\"\"\n",
    "# width and height of your screen\n",
    "w, h = 1920, 1200\n",
    "w, h = 2560, 1440 # iMac 27''\n",
    "\n",
    "# width and height of the stimulus\n",
    "w_stim, h_stim = 1024, 1024\n",
    "\n",
    "\n",
    "print('launching experiment')\n",
    "from psychopy import visual, core, event, logging, misc\n",
    "logging.console.setLevel(logging.DEBUG)\n",
    "\n",
    "import os, numpy\n",
    "import MotionClouds as mc\n",
    "import time, datetime\n",
    "\n",
    "#if no file use some defaults\n",
    "info = {}\n",
    "info['observer'] = 'anonymous'\n",
    "info['screen_width'] = w\n",
    "info['screen_height'] = h\n",
    "info['nTrials'] = 50\n",
    "info['N_X'] = mc.N_X # size of image\n",
    "info['N_Y'] = mc.N_Y # size of image\n",
    "info['N_frame_total'] = 32 # a full period. in time frames\n",
    "info['N_frame'] = 32 # length of the presented period. in time frames\n",
    "info['timeStr'] = datetime.datetime.now().date().isoformat() + time.strftime(\"_%H%M\", time.localtime())\n",
    "\n",
    "fileName = 'data/discriminating_v2_' + info['observer'] + '_' + info['timeStr'] + '.pickle'\n",
    "\n",
    "print('generating data')\n",
    "\n",
    "alphas = [-1., -.5, 0., 0.5, 1., 1.5, 2.]\n",
    "fx, fy, ft = mc.get_grids(info['N_X'], info['N_Y'], info['N_frame_total'])\n",
    "slows = [2*mc.rectif(mc.random_cloud(mc.envelope_gabor(fx, fy, ft, V_Y=0., V_X = 1.1, B_sf = 10., alpha=alpha))) - 1 for alpha in alphas]\n",
    "fasts = [2*mc.rectif(mc.random_cloud(mc.envelope_gabor(fx, fy, ft, V_Y=0., V_X = 0.9, B_sf = 10., alpha=alpha))) - 1 for alpha in alphas]\n",
    "\n",
    "print('go!      ')\n",
    "win = visual.Window([info['screen_width'], info['screen_height']], fullscr=True)\n",
    "\n",
    "stimLeft = visual.GratingStim(win, \n",
    "                            size=(info['screen_width']/2, info['screen_width']/2), \n",
    "                            pos=(-info['screen_width']/4, 0), \n",
    "                            units='pix',\n",
    "                            interpolate=True,\n",
    "                            mask = 'gauss',\n",
    "                            autoLog=False)#this stim changes too much for autologging to be useful\n",
    "\n",
    "stimRight = visual.GratingStim(win, \n",
    "                            size=(info['screen_width']/2, info['screen_width']/2), \n",
    "                            pos=(info['screen_width']/4, 0), \n",
    "                            units='pix',\n",
    "                            interpolate=True,\n",
    "                            mask = 'gauss',\n",
    "                            autoLog=False)#this stim changes too much for autologging to be useful\n",
    "\n",
    "wait_for_response = visual.TextStim(win, \n",
    "                        text = u\"?\", units='norm', height=0.15, color='DarkSlateBlue',\n",
    "                        pos=[0., -0.], alignHoriz='center', alignVert='center' ) \n",
    "wait_for_next = visual.TextStim(win, \n",
    "                        text = u\"+\", units='norm', height=0.15, color='BlanchedAlmond',\n",
    "                        pos=[0., -0.], alignHoriz='center', alignVert='center' ) \n",
    "                        \n",
    "def getResponse():\n",
    "    event.clearEvents()#clear the event buffer to start with\n",
    "    resp = None#initially\n",
    "    while 1:#forever until we return a keypress\n",
    "        for key in event.getKeys():\n",
    "            #quit\n",
    "            if key in ['escape', 'q']:\n",
    "                win.close()\n",
    "                core.quit()\n",
    "                return None\n",
    "            #valid response - check to see if correct\n",
    "            elif key in ['left', 'right']:\n",
    "                if key in ['left'] :return 0.\n",
    "                else: return 1.\n",
    "            else:\n",
    "                print \"hit LEFT or RIGHT (or Esc) (You hit %s)\" %key\n",
    "\n",
    "clock = core.Clock()\n",
    "FPS = 50.\n",
    "def presentStimulus(i_alpha, left):\n",
    "    \"\"\"\n",
    "    Present stimulus\n",
    "    \n",
    "    TODO : switch randomly up / down\n",
    "    \n",
    "    \"\"\"\n",
    "    phase_up = numpy.floor(numpy.random.rand() *(info['N_frame_total']-info['N_frame']))\n",
    "    phase_down = numpy.floor(numpy.random.rand() *(info['N_frame_total']-info['N_frame']))\n",
    "    up = numpy.random.randint(2)*2 - 1\n",
    "    clock.reset()\n",
    "    for i_frame in range(info['N_frame']): # length of the stimulus\n",
    "        wait_for_next.draw()\n",
    "        stimLeft.setTex(left * fasts[i_alpha][:, :, up*i_frame+phase_up]+ (1-left) * slows[i_alpha][:, :, up*i_frame+phase_down])\n",
    "        stimRight.setTex((1.-left) * fasts[i_alpha][:, :, up*i_frame+phase_up]+ left * slows[i_alpha][:, :, up*i_frame+phase_down])\n",
    "        stimLeft.draw()\n",
    "        stimRight.draw()\n",
    "#        while clock.getTime() < i_frame/FPS:\n",
    "#            print clock.getTime(), i_frame/FPS\n",
    "#            print('waiting')\n",
    "        win.flip()\n",
    "\n",
    "n_alpha = len(alphas)\n",
    "results = numpy.zeros((n_alpha, info['nTrials']))\n",
    "for i_trial in range(info['nTrials']):\n",
    "    wait_for_next.draw()\n",
    "    win.flip()\n",
    "    core.wait(0.5)\n",
    "    left = numpy.random.randint(2) # a random number between 0 and 1\n",
    "    i_alpha = numpy.random.randint(n_alpha) # a random number between 0 and 1\n",
    "    presentStimulus(i_alpha, left)\n",
    "    wait_for_response.draw()\n",
    "    win.flip()\n",
    "    results[i_alpha, i_trial] = 2*(left == getResponse())-1\n",
    "\n",
    "win.update()\n",
    "core.wait(0.5)\n",
    "\n",
    "win.close()\n",
    "\n",
    "#save data\n",
    "info['alphas'] = alphas\n",
    "info['results'] = results\n",
    "misc.toFile(fileName, info)\n",
    "\n",
    "core.quit() #quit\n"
   ]
  },
  {
   "cell_type": "code",
   "execution_count": 2,
   "metadata": {
    "collapsed": false
   },
   "outputs": [
    {
     "name": "stdout",
     "output_type": "stream",
     "text": [
      "/Users/laurentperrinet/pool/blog/motionclouds.invibe.net/files\n",
      "/Users/laurentperrinet/pool/blog/motionclouds.invibe.net/posts\n"
     ]
    }
   ],
   "source": [
    "%cd ../files\n",
    "#!python2 psychopy_discrimination.py\n",
    "%cd ../posts"
   ]
  },
  {
   "cell_type": "markdown",
   "metadata": {},
   "source": [
    "## Analysis of the discrimination experiment"
   ]
  },
  {
   "cell_type": "markdown",
   "metadata": {},
   "source": [
    "In the ``psychopy_discrimination.py`` script, we implemented an experiment to test whether the overall shape of motion clouds could influence discrimination of speed."
   ]
  },
  {
   "cell_type": "markdown",
   "metadata": {},
   "source": [
    "Herein, we analyse the data that was collected over different sessions and try to draw some conclusions."
   ]
  },
  {
   "cell_type": "code",
   "execution_count": 3,
   "metadata": {
    "collapsed": false
   },
   "outputs": [],
   "source": [
    "import numpy as np\n",
    "np.set_printoptions(precision=3, suppress=True)\n",
    "import pylab\n",
    "import matplotlib.pyplot as plt\n",
    "%matplotlib inline"
   ]
  },
  {
   "cell_type": "markdown",
   "metadata": {},
   "source": [
    "## Analysis - version 1"
   ]
  },
  {
   "cell_type": "markdown",
   "metadata": {},
   "source": [
    "In a first version of the experiment, we only stored the results in a numpy file."
   ]
  },
  {
   "cell_type": "code",
   "execution_count": 4,
   "metadata": {
    "collapsed": false
   },
   "outputs": [
    {
     "name": "stdout",
     "output_type": "stream",
     "text": [
      "../files/data/discriminating_john_Jan_23_1515.npy\r\n",
      "../files/data/discriminating_lup_Jan_23_1401.npy\r\n",
      "../files/data/discriminating_lup_Jan_23_1735.npy\r\n",
      "../files/data/discriminating_lup_Jan_24_0914.npy\r\n",
      "../files/data/discriminating_lup_Jan_24_0919.npy\r\n",
      "../files/data/discriminating_lup_Jan_24_0931.npy\r\n",
      "../files/data/discriminating_lup_Jan_24_0937.npy\r\n",
      "../files/data/discriminating_v2_anonymous_2015-07-01_1422.pickle\r\n",
      "../files/data/discriminating_v2_lup_Feb_07_1409.pickle\r\n",
      "../files/data/discriminating_v2_lup_Feb_07_1434.pickle\r\n"
     ]
    }
   ],
   "source": [
    "!ls  ../files/data/discriminating_*"
   ]
  },
  {
   "cell_type": "code",
   "execution_count": 5,
   "metadata": {
    "collapsed": false
   },
   "outputs": [
    {
     "name": "stdout",
     "output_type": "stream",
     "text": [
      "competing_v1_bruno_Dec_14_1210.npy\r\n",
      "competing_v1_lup_Dec_12_1003.npy\r\n",
      "competing_v1_lup_Dec_12_1013.npy\r\n",
      "competing_v1_lup_Dec_14_1201.npy\r\n",
      "competing_v1_meduz_Dec_14_1204.npy\r\n",
      "competing_v2_anonymous_2015-07-01.npy\r\n",
      "competing_v2_anonymous_2015-07-01.pickle\r\n",
      "competing_v2_anonymous_2015-07-01_1344.npy\r\n",
      "competing_v2_anonymous_2015-07-01_1344.pickle\r\n",
      "competing_v2_jean_Sep_03_1536.npy\r\n",
      "competing_v2_jean_Sep_03_1536.pickle\r\n",
      "competing_v2_laurent_Sep_17_1522.npy\r\n",
      "competing_v2_laurent_Sep_17_1522.pickle\r\n",
      "discriminating_john_Jan_23_1515.npy\r\n",
      "discriminating_lup_Jan_23_1401.npy\r\n",
      "discriminating_lup_Jan_23_1735.npy\r\n",
      "discriminating_lup_Jan_24_0914.npy\r\n",
      "discriminating_lup_Jan_24_0919.npy\r\n",
      "discriminating_lup_Jan_24_0931.npy\r\n",
      "discriminating_lup_Jan_24_0937.npy\r\n",
      "discriminating_v2_anonymous_2015-07-01_1422.pickle\r\n",
      "discriminating_v2_lup_Feb_07_1409.pickle\r\n",
      "discriminating_v2_lup_Feb_07_1434.pickle\r\n"
     ]
    }
   ],
   "source": [
    "!ls  ../files/data/"
   ]
  },
  {
   "cell_type": "code",
   "execution_count": 6,
   "metadata": {
    "collapsed": false
   },
   "outputs": [
    {
     "name": "stdout",
     "output_type": "stream",
     "text": [
      "../files/data/discriminating_john_Jan_23_1515.npy (2, 50)\n",
      "analyzing results\n",
      "# of trials : [ 50.     24.508]\n",
      "average results:  [ 0.48  1.  ]\n",
      "../files/data/discriminating_lup_Jan_23_1401.npy (2, 50)\n",
      "analyzing results\n",
      "# of trials : [ 50.     28.126]\n",
      "average results:  [ 0.66  1.  ]\n",
      "../files/data/discriminating_lup_Jan_23_1735.npy (3, 50)\n",
      "analyzing results\n",
      "# of trials : [  9.  14.  13.]\n",
      "average results:  [ 1.  1.  1.]\n",
      "../files/data/discriminating_lup_Jan_24_0914.npy (3, 50)\n",
      "analyzing results\n",
      "# of trials : [ 17.  21.  12.]\n",
      "average results:  [ 0.647  0.857  1.   ]\n",
      "../files/data/discriminating_lup_Jan_24_0919.npy (3, 50)\n",
      "analyzing results\n",
      "# of trials : [ 10.  25.  15.]\n",
      "average results:  [ 0.7    0.32   0.533]\n",
      "../files/data/discriminating_lup_Jan_24_0931.npy (7, 50)\n",
      "analyzing results\n",
      "# of trials : [  3.   4.   8.   8.   7.  12.   8.]\n",
      "average results:  [ 0.667  1.     0.625  0.375  1.     0.167  0.125]\n",
      "../files/data/discriminating_lup_Jan_24_0937.npy (7, 50)\n",
      "analyzing results\n",
      "# of trials : [  7.   5.   6.  12.  10.   2.   8.]\n",
      "average results:  [ 0.857  0.8    0.833  0.417  0.2    1.     0.375]\n"
     ]
    }
   ],
   "source": [
    "import glob\n",
    "for fn in glob.glob('../files/data/discriminating_*npy'):\n",
    "    results = np.load(fn)\n",
    "    print (fn, results.shape)\n",
    "    print('analyzing results')\n",
    "    print('# of trials :', np.abs(results).sum(axis=1))\n",
    "    print( 'average results: ', (results.sum(axis=1)/np.abs(results).sum(axis=1)*.5+.5))"
   ]
  },
  {
   "cell_type": "code",
   "execution_count": 7,
   "metadata": {
    "collapsed": false,
    "scrolled": true
   },
   "outputs": [
    {
     "name": "stdout",
     "output_type": "stream",
     "text": [
      "Variable   Type       Data/Info\n",
      "-------------------------------\n",
      "fn         str        ../files/data/discriminating_lup_Jan_24_0937.npy\n",
      "glob       module     <module 'glob' from '/usr<...>5/lib/python3.5/glob.py'>\n",
      "np         module     <module 'numpy' from '/us<...>kages/numpy/__init__.py'>\n",
      "plt        module     <module 'matplotlib.pyplo<...>es/matplotlib/pyplot.py'>\n",
      "pylab      module     <module 'pylab' from '/us<...>/site-packages/pylab.py'>\n",
      "results    ndarray    7x50: 350 elems, type `float64`, 2800 bytes\n"
     ]
    }
   ],
   "source": [
    "%whos"
   ]
  },
  {
   "cell_type": "markdown",
   "metadata": {},
   "source": [
    "Another solution is to use:"
   ]
  },
  {
   "cell_type": "code",
   "execution_count": 8,
   "metadata": {
    "collapsed": false
   },
   "outputs": [],
   "source": [
    "#data= 1\n",
    "#np.savez('toto', data=data, results=results)\n",
    "#print np.load('toto.npz')['data']"
   ]
  },
  {
   "cell_type": "markdown",
   "metadata": {},
   "source": [
    "or directly ``psychopy.misc``:"
   ]
  },
  {
   "cell_type": "code",
   "execution_count": 9,
   "metadata": {
    "collapsed": false
   },
   "outputs": [],
   "source": [
    "#from psychopy import misc"
   ]
  },
  {
   "cell_type": "raw",
   "metadata": {
    "collapsed": false
   },
   "source": [
    "#info = misc.fromFile('../data/discriminating.pickle')\n",
    "with open('../files/data/discriminating.pickle', 'rb') as f: info = pickle.load(f)"
   ]
  },
  {
   "cell_type": "raw",
   "metadata": {
    "collapsed": false
   },
   "source": [
    "alphas = [-1., -.5, 0., 0.5, 1., 1.5, 2.]\n",
    "fileName = '/tmp/discriminating_' + info['observer'] + '.pickle'\n",
    "info['alphas'] = alphas\n",
    "info['results'] = results\n",
    "#numpy.savez(fileName, results=results, alphas=alphas)\n",
    "#misc.toFile(fileName, info)"
   ]
  },
  {
   "cell_type": "markdown",
   "metadata": {},
   "source": [
    "## Analysis - version 2"
   ]
  },
  {
   "cell_type": "markdown",
   "metadata": {},
   "source": [
    "In the second version, we stored more data:"
   ]
  },
  {
   "cell_type": "code",
   "execution_count": 10,
   "metadata": {
    "collapsed": false
   },
   "outputs": [
    {
     "name": "stdout",
     "output_type": "stream",
     "text": [
      "Loading  ../files/data/discriminating_v2_anonymous_2015-07-01_1422.pickle\n",
      "../files/data/discriminating_v2_anonymous_2015-07-01_1422.pickle (7, 50)\n",
      "analyzing results\n",
      " alphas =  [-1.  -0.5  0.   0.5  1.   1.5  2. ]\n",
      "# of trials : [  5.  10.   9.   9.   4.   8.   5.]\n",
      "average results:  [ 0.6    0.5    0.222  0.667  1.     0.75   0.8  ]\n",
      "Loading  ../files/data/discriminating_v2_lup_Feb_07_1409.pickle\n",
      "../files/data/discriminating_v2_lup_Feb_07_1409.pickle (7, 50)\n",
      "analyzing results\n",
      " alphas =  [-1.  -0.5  0.   0.5  1.   1.5  2. ]\n",
      "# of trials : [ 10.   4.   5.  11.   6.  11.   3.]\n",
      "average results:  [ 0.7    1.     0.4    0.545  0.833  0.273  1.   ]\n",
      "Loading  ../files/data/discriminating_v2_lup_Feb_07_1434.pickle\n",
      "../files/data/discriminating_v2_lup_Feb_07_1434.pickle (7, 50)\n",
      "analyzing results\n",
      " alphas =  [-1.  -0.5  0.   0.5  1.   1.5  2. ]\n",
      "# of trials : [  4.   3.  10.  12.   8.   8.   5.]\n",
      "average results:  [ 0.75   0.667  0.8    0.5    0.125  0.25   0.4  ]\n"
     ]
    },
    {
     "data": {
      "text/plain": [
       "<matplotlib.text.Text at 0x104cebcf8>"
      ]
     },
     "execution_count": 10,
     "metadata": {},
     "output_type": "execute_result"
    },
    {
     "data": {
      "image/png": "[encoded data removed]",
      "text/plain": [
       "<matplotlib.figure.Figure at 0x102944c50>"
      ]
     },
     "metadata": {},
     "output_type": "display_data"
    }
   ],
   "source": [
    "import glob\n",
    "#from psychopy import misc\n",
    "import pickle\n",
    "fig = plt.figure()\n",
    "ax = fig.add_subplot(111)\n",
    "for fn in glob.glob('../files/data/discriminating_v2_*pickle'):\n",
    "    print ('Loading ', fn)\n",
    "    with open(fn, 'rb') as f: data = pickle.load(f, encoding='latin1')\n",
    "    print( fn, results.shape)\n",
    "    print('analyzing results')\n",
    "    alphas = np.array(data['alphas'])\n",
    "    print( ' alphas = ', alphas)\n",
    "    print( '# of trials :', np.abs(data['results']).sum(axis=1))\n",
    "    print( 'average results: ', (data['results'].sum(axis=1)/np.abs(data['results']).sum(axis=1)*.5+.5))\n",
    "    width = (alphas.max()-alphas.min())/len(alphas)\n",
    "    ax.bar(data['alphas'] - width/2, (data['results'].sum(axis=1)/np.abs(data['results']).sum(axis=1)*.5+.5), width=width, alpha=.3 )\n",
    "#    for i_trial in xrange(data['results'].shape[1]):\n",
    "#        ax.scatter(data['alphas'][data['results']\n",
    "ax.set_xlabel('alpha')\n",
    "ax.set_ylabel('% correct')\n"
   ]
  },
  {
   "cell_type": "code",
   "execution_count": 11,
   "metadata": {
    "collapsed": false
   },
   "outputs": [],
   "source": [
    "# TODO : correct for the number of trials / make global reading / make a new draw of alphas\n",
    "# TODO : test f_0"
   ]
  }
 ],
 "metadata": {
  "kernelspec": {
   "display_name": "Python 3",
   "language": "python",
   "name": "python3"
  },
  "language_info": {
   "codemirror_mode": {
    "name": "ipython",
    "version": 3
   },
   "file_extension": ".py",
   "mimetype": "text/x-python",
   "name": "python",
   "nbconvert_exporter": "python",
   "pygments_lexer": "ipython3",
   "version": "3.5.2"
  }
 },
 "nbformat": 4,
 "nbformat_minor": 0
}
