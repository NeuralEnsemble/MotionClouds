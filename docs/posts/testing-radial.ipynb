{
 "cells": [
  {
   "cell_type": "markdown",
   "metadata": {
    "deletable": true,
    "editable": true
   },
   "source": [
    "# Testing spatial frequency component"
   ]
  },
  {
   "cell_type": "code",
   "execution_count": 1,
   "metadata": {
    "collapsed": false,
    "deletable": true,
    "editable": true
   },
   "outputs": [],
   "source": [
    "import numpy as np\n",
    "np.set_printoptions(precision=5, suppress=True)\n",
    "import pylab\n",
    "import matplotlib.pyplot as plt\n",
    "%matplotlib inline\n",
    "#!rm -fr ../files/radial*"
   ]
  },
  {
   "cell_type": "code",
   "execution_count": 2,
   "metadata": {
    "collapsed": false,
    "deletable": true,
    "editable": true
   },
   "outputs": [
    {
     "name": "stdout",
     "output_type": "stream",
     "text": [
      "Help on function envelope_radial in module MotionClouds:\n",
      "\n",
      "envelope_radial(fx, fy, ft, sf_0=0.125, B_sf=0.1, ft_0=inf, loggabor=True)\n",
      "    Returns the radial frequency envelope:\n",
      "    \n",
      "    Selects a preferred spatial frequency ``sf_0`` and a bandwidth ``B_sf``.\n",
      "    \n",
      "    Run the 'test_radial' notebook to see the explore the effect of ``sf_0`` and ``B_sf``, see\n",
      "    https://neuralensemble.github.io/MotionClouds/posts/testing-radial.html\n",
      "\n"
     ]
    }
   ],
   "source": [
    "import MotionClouds as mc\n",
    "import os\n",
    "fx, fy, ft = mc.get_grids(mc.N_X, mc.N_Y, mc.N_frame)\n",
    "help(mc.envelope_radial)"
   ]
  },
  {
   "cell_type": "code",
   "execution_count": 3,
   "metadata": {
    "collapsed": false,
    "deletable": true,
    "editable": true
   },
   "outputs": [
    {
     "data": {
      "text/html": [
       "\n",
       "                <center><table border=none width=100% height=100%>\n",
       "                <tr>\n",
       "                <td width=33%%><center><img src=\"../files/radial.png\" width=100%/></td>\n",
       "                <td rowspan=2  colspan=2><center><video src=\"../files/radial.mp4\"   loop=\"1\" autoplay=\"1\" controls   type=\"video/mp4\" width=100%/></td>\n",
       "                </tr>\n",
       "                <tr>\n",
       "                <td><center><img src=\"../files/radial_cube.png\" width=100%/></td>\n",
       "                </tr>\n",
       "                </table></center>"
      ],
      "text/plain": [
       "<IPython.core.display.HTML object>"
      ]
     },
     "metadata": {},
     "output_type": "display_data"
    }
   ],
   "source": [
    "name = 'radial'\n",
    "#initialize\n",
    "fx, fy, ft = mc.get_grids(mc.N_X, mc.N_Y, mc.N_frame)\n",
    "\n",
    "mc.figures_MC(fx, fy, ft, name)\n",
    "verbose = False\n",
    "mc.in_show_video(name)"
   ]
  },
  {
   "cell_type": "code",
   "execution_count": 4,
   "metadata": {
    "collapsed": false,
    "deletable": true,
    "editable": true
   },
   "outputs": [
    {
     "data": {
      "text/plain": [
       "array([ 0.03125,  0.05568,  0.09921,  0.17678,  0.31498,  0.56123,  1.     ])"
      ]
     },
     "execution_count": 4,
     "metadata": {},
     "output_type": "execute_result"
    }
   ],
   "source": [
    "N = 5\n",
    "np.logspace(-5, 0., 7, base=2)"
   ]
  },
  {
   "cell_type": "markdown",
   "metadata": {
    "deletable": true,
    "editable": true
   },
   "source": [
    "## exploring different frequency bandwidths"
   ]
  },
  {
   "cell_type": "code",
   "execution_count": 5,
   "metadata": {
    "collapsed": false,
    "deletable": true,
    "editable": true
   },
   "outputs": [
    {
     "data": {
      "text/html": [
       "\n",
       "                <center><table border=none width=100% height=100%>\n",
       "                <tr>\n",
       "                <td width=33%%><center><img src=\"../files/radial-B_sf-0_0625.png\" width=100%/></td>\n",
       "                <td rowspan=2  colspan=2><center><video src=\"../files/radial-B_sf-0_0625.mp4\"   loop=\"1\" autoplay=\"1\" controls   type=\"video/mp4\" width=100%/></td>\n",
       "                </tr>\n",
       "                <tr>\n",
       "                <td><center><img src=\"../files/radial-B_sf-0_0625_cube.png\" width=100%/></td>\n",
       "                </tr>\n",
       "                </table></center>"
      ],
      "text/plain": [
       "<IPython.core.display.HTML object>"
      ]
     },
     "metadata": {},
     "output_type": "display_data"
    },
    {
     "data": {
      "text/html": [
       "\n",
       "                <center><table border=none width=100% height=100%>\n",
       "                <tr>\n",
       "                <td width=33%%><center><img src=\"../files/radial-B_sf-0_125.png\" width=100%/></td>\n",
       "                <td rowspan=2  colspan=2><center><video src=\"../files/radial-B_sf-0_125.mp4\"   loop=\"1\" autoplay=\"1\" controls   type=\"video/mp4\" width=100%/></td>\n",
       "                </tr>\n",
       "                <tr>\n",
       "                <td><center><img src=\"../files/radial-B_sf-0_125_cube.png\" width=100%/></td>\n",
       "                </tr>\n",
       "                </table></center>"
      ],
      "text/plain": [
       "<IPython.core.display.HTML object>"
      ]
     },
     "metadata": {},
     "output_type": "display_data"
    },
    {
     "data": {
      "text/html": [
       "\n",
       "                <center><table border=none width=100% height=100%>\n",
       "                <tr>\n",
       "                <td width=33%%><center><img src=\"../files/radial-B_sf-0_25.png\" width=100%/></td>\n",
       "                <td rowspan=2  colspan=2><center><video src=\"../files/radial-B_sf-0_25.mp4\"   loop=\"1\" autoplay=\"1\" controls   type=\"video/mp4\" width=100%/></td>\n",
       "                </tr>\n",
       "                <tr>\n",
       "                <td><center><img src=\"../files/radial-B_sf-0_25_cube.png\" width=100%/></td>\n",
       "                </tr>\n",
       "                </table></center>"
      ],
      "text/plain": [
       "<IPython.core.display.HTML object>"
      ]
     },
     "metadata": {},
     "output_type": "display_data"
    },
    {
     "data": {
      "text/html": [
       "\n",
       "                <center><table border=none width=100% height=100%>\n",
       "                <tr>\n",
       "                <td width=33%%><center><img src=\"../files/radial-B_sf-0_5.png\" width=100%/></td>\n",
       "                <td rowspan=2  colspan=2><center><video src=\"../files/radial-B_sf-0_5.mp4\"   loop=\"1\" autoplay=\"1\" controls   type=\"video/mp4\" width=100%/></td>\n",
       "                </tr>\n",
       "                <tr>\n",
       "                <td><center><img src=\"../files/radial-B_sf-0_5_cube.png\" width=100%/></td>\n",
       "                </tr>\n",
       "                </table></center>"
      ],
      "text/plain": [
       "<IPython.core.display.HTML object>"
      ]
     },
     "metadata": {},
     "output_type": "display_data"
    },
    {
     "data": {
      "text/html": [
       "\n",
       "                <center><table border=none width=100% height=100%>\n",
       "                <tr>\n",
       "                <td width=33%%><center><img src=\"../files/radial-B_sf-1_0.png\" width=100%/></td>\n",
       "                <td rowspan=2  colspan=2><center><video src=\"../files/radial-B_sf-1_0.mp4\"   loop=\"1\" autoplay=\"1\" controls   type=\"video/mp4\" width=100%/></td>\n",
       "                </tr>\n",
       "                <tr>\n",
       "                <td><center><img src=\"../files/radial-B_sf-1_0_cube.png\" width=100%/></td>\n",
       "                </tr>\n",
       "                </table></center>"
      ],
      "text/plain": [
       "<IPython.core.display.HTML object>"
      ]
     },
     "metadata": {},
     "output_type": "display_data"
    }
   ],
   "source": [
    "for B_sf in np.logspace(-4, 0., N, base=2):\n",
    "    name_ = name + '-B_sf-' + str(B_sf).replace('.', '_')\n",
    "    mc.figures_MC(fx, fy, ft, name_, B_sf=B_sf, verbose=verbose)\n",
    "    mc.in_show_video(name_)"
   ]
  },
  {
   "cell_type": "markdown",
   "metadata": {
    "deletable": true,
    "editable": true
   },
   "source": [
    "## exploring different (median) central frequencies"
   ]
  },
  {
   "cell_type": "code",
   "execution_count": 6,
   "metadata": {
    "collapsed": false,
    "deletable": true,
    "editable": true
   },
   "outputs": [
    {
     "data": {
      "text/html": [
       "\n",
       "                <center><table border=none width=100% height=100%>\n",
       "                <tr>\n",
       "                <td width=33%%><center><img src=\"../files/radial-sf_0-0_01.png\" width=100%/></td>\n",
       "                <td rowspan=2  colspan=2><center><video src=\"../files/radial-sf_0-0_01.mp4\"   loop=\"1\" autoplay=\"1\" controls   type=\"video/mp4\" width=100%/></td>\n",
       "                </tr>\n",
       "                <tr>\n",
       "                <td><center><img src=\"../files/radial-sf_0-0_01_cube.png\" width=100%/></td>\n",
       "                </tr>\n",
       "                </table></center>"
      ],
      "text/plain": [
       "<IPython.core.display.HTML object>"
      ]
     },
     "metadata": {},
     "output_type": "display_data"
    },
    {
     "data": {
      "text/html": [
       "\n",
       "                <center><table border=none width=100% height=100%>\n",
       "                <tr>\n",
       "                <td width=33%%><center><img src=\"../files/radial-sf_0-0_05.png\" width=100%/></td>\n",
       "                <td rowspan=2  colspan=2><center><video src=\"../files/radial-sf_0-0_05.mp4\"   loop=\"1\" autoplay=\"1\" controls   type=\"video/mp4\" width=100%/></td>\n",
       "                </tr>\n",
       "                <tr>\n",
       "                <td><center><img src=\"../files/radial-sf_0-0_05_cube.png\" width=100%/></td>\n",
       "                </tr>\n",
       "                </table></center>"
      ],
      "text/plain": [
       "<IPython.core.display.HTML object>"
      ]
     },
     "metadata": {},
     "output_type": "display_data"
    },
    {
     "data": {
      "text/html": [
       "\n",
       "                <center><table border=none width=100% height=100%>\n",
       "                <tr>\n",
       "                <td width=33%%><center><img src=\"../files/radial-sf_0-0_1.png\" width=100%/></td>\n",
       "                <td rowspan=2  colspan=2><center><video src=\"../files/radial-sf_0-0_1.mp4\"   loop=\"1\" autoplay=\"1\" controls   type=\"video/mp4\" width=100%/></td>\n",
       "                </tr>\n",
       "                <tr>\n",
       "                <td><center><img src=\"../files/radial-sf_0-0_1_cube.png\" width=100%/></td>\n",
       "                </tr>\n",
       "                </table></center>"
      ],
      "text/plain": [
       "<IPython.core.display.HTML object>"
      ]
     },
     "metadata": {},
     "output_type": "display_data"
    },
    {
     "data": {
      "text/html": [
       "\n",
       "                <center><table border=none width=100% height=100%>\n",
       "                <tr>\n",
       "                <td width=33%%><center><img src=\"../files/radial-sf_0-0_2.png\" width=100%/></td>\n",
       "                <td rowspan=2  colspan=2><center><video src=\"../files/radial-sf_0-0_2.mp4\"   loop=\"1\" autoplay=\"1\" controls   type=\"video/mp4\" width=100%/></td>\n",
       "                </tr>\n",
       "                <tr>\n",
       "                <td><center><img src=\"../files/radial-sf_0-0_2_cube.png\" width=100%/></td>\n",
       "                </tr>\n",
       "                </table></center>"
      ],
      "text/plain": [
       "<IPython.core.display.HTML object>"
      ]
     },
     "metadata": {},
     "output_type": "display_data"
    },
    {
     "data": {
      "text/html": [
       "\n",
       "                <center><table border=none width=100% height=100%>\n",
       "                <tr>\n",
       "                <td width=33%%><center><img src=\"../files/radial-sf_0-0_4.png\" width=100%/></td>\n",
       "                <td rowspan=2  colspan=2><center><video src=\"../files/radial-sf_0-0_4.mp4\"   loop=\"1\" autoplay=\"1\" controls   type=\"video/mp4\" width=100%/></td>\n",
       "                </tr>\n",
       "                <tr>\n",
       "                <td><center><img src=\"../files/radial-sf_0-0_4_cube.png\" width=100%/></td>\n",
       "                </tr>\n",
       "                </table></center>"
      ],
      "text/plain": [
       "<IPython.core.display.HTML object>"
      ]
     },
     "metadata": {},
     "output_type": "display_data"
    },
    {
     "data": {
      "text/html": [
       "\n",
       "                <center><table border=none width=100% height=100%>\n",
       "                <tr>\n",
       "                <td width=33%%><center><img src=\"../files/radial-sf_0-0_8.png\" width=100%/></td>\n",
       "                <td rowspan=2  colspan=2><center><video src=\"../files/radial-sf_0-0_8.mp4\"   loop=\"1\" autoplay=\"1\" controls   type=\"video/mp4\" width=100%/></td>\n",
       "                </tr>\n",
       "                <tr>\n",
       "                <td><center><img src=\"../files/radial-sf_0-0_8_cube.png\" width=100%/></td>\n",
       "                </tr>\n",
       "                </table></center>"
      ],
      "text/plain": [
       "<IPython.core.display.HTML object>"
      ]
     },
     "metadata": {},
     "output_type": "display_data"
    }
   ],
   "source": [
    "for sf_0 in [0.01, 0.05, 0.1, 0.2, 0.4, 0.8]:\n",
    "    name_ = name + '-sf_0-' + str(sf_0).replace('.', '_')\n",
    "    mc.figures_MC(fx, fy, ft, name_, sf_0=sf_0, verbose=verbose)\n",
    "    mc.in_show_video(name_)"
   ]
  },
  {
   "cell_type": "markdown",
   "metadata": {
    "deletable": true,
    "editable": true
   },
   "source": [
    "Note that some information is lost in the last case as $f_0$ exceeds the Nyquist frequency.\n",
    "\n",
    "## exploring different speed bandwidths"
   ]
  },
  {
   "cell_type": "code",
   "execution_count": 7,
   "metadata": {
    "collapsed": false,
    "deletable": true,
    "editable": true
   },
   "outputs": [
    {
     "data": {
      "text/html": [
       "\n",
       "                <center><table border=none width=100% height=100%>\n",
       "                <tr>\n",
       "                <td width=33%%><center><img src=\"../files/radial-B_V-0.png\" width=100%/></td>\n",
       "                <td rowspan=2  colspan=2><center><video src=\"../files/radial-B_V-0.mp4\"   loop=\"1\" autoplay=\"1\" controls   type=\"video/mp4\" width=100%/></td>\n",
       "                </tr>\n",
       "                <tr>\n",
       "                <td><center><img src=\"../files/radial-B_V-0_cube.png\" width=100%/></td>\n",
       "                </tr>\n",
       "                </table></center>"
      ],
      "text/plain": [
       "<IPython.core.display.HTML object>"
      ]
     },
     "metadata": {},
     "output_type": "display_data"
    },
    {
     "data": {
      "text/html": [
       "\n",
       "                <center><table border=none width=100% height=100%>\n",
       "                <tr>\n",
       "                <td width=33%%><center><img src=\"../files/radial-B_V-0_001.png\" width=100%/></td>\n",
       "                <td rowspan=2  colspan=2><center><video src=\"../files/radial-B_V-0_001.mp4\"   loop=\"1\" autoplay=\"1\" controls   type=\"video/mp4\" width=100%/></td>\n",
       "                </tr>\n",
       "                <tr>\n",
       "                <td><center><img src=\"../files/radial-B_V-0_001_cube.png\" width=100%/></td>\n",
       "                </tr>\n",
       "                </table></center>"
      ],
      "text/plain": [
       "<IPython.core.display.HTML object>"
      ]
     },
     "metadata": {},
     "output_type": "display_data"
    },
    {
     "data": {
      "text/html": [
       "\n",
       "                <center><table border=none width=100% height=100%>\n",
       "                <tr>\n",
       "                <td width=33%%><center><img src=\"../files/radial-B_V-0_01.png\" width=100%/></td>\n",
       "                <td rowspan=2  colspan=2><center><video src=\"../files/radial-B_V-0_01.mp4\"   loop=\"1\" autoplay=\"1\" controls   type=\"video/mp4\" width=100%/></td>\n",
       "                </tr>\n",
       "                <tr>\n",
       "                <td><center><img src=\"../files/radial-B_V-0_01_cube.png\" width=100%/></td>\n",
       "                </tr>\n",
       "                </table></center>"
      ],
      "text/plain": [
       "<IPython.core.display.HTML object>"
      ]
     },
     "metadata": {},
     "output_type": "display_data"
    },
    {
     "data": {
      "text/html": [
       "\n",
       "                <center><table border=none width=100% height=100%>\n",
       "                <tr>\n",
       "                <td width=33%%><center><img src=\"../files/radial-B_V-0_05.png\" width=100%/></td>\n",
       "                <td rowspan=2  colspan=2><center><video src=\"../files/radial-B_V-0_05.mp4\"   loop=\"1\" autoplay=\"1\" controls   type=\"video/mp4\" width=100%/></td>\n",
       "                </tr>\n",
       "                <tr>\n",
       "                <td><center><img src=\"../files/radial-B_V-0_05_cube.png\" width=100%/></td>\n",
       "                </tr>\n",
       "                </table></center>"
      ],
      "text/plain": [
       "<IPython.core.display.HTML object>"
      ]
     },
     "metadata": {},
     "output_type": "display_data"
    },
    {
     "data": {
      "text/html": [
       "\n",
       "                <center><table border=none width=100% height=100%>\n",
       "                <tr>\n",
       "                <td width=33%%><center><img src=\"../files/radial-B_V-0_1.png\" width=100%/></td>\n",
       "                <td rowspan=2  colspan=2><center><video src=\"../files/radial-B_V-0_1.mp4\"   loop=\"1\" autoplay=\"1\" controls   type=\"video/mp4\" width=100%/></td>\n",
       "                </tr>\n",
       "                <tr>\n",
       "                <td><center><img src=\"../files/radial-B_V-0_1_cube.png\" width=100%/></td>\n",
       "                </tr>\n",
       "                </table></center>"
      ],
      "text/plain": [
       "<IPython.core.display.HTML object>"
      ]
     },
     "metadata": {},
     "output_type": "display_data"
    },
    {
     "data": {
      "text/html": [
       "\n",
       "                <center><table border=none width=100% height=100%>\n",
       "                <tr>\n",
       "                <td width=33%%><center><img src=\"../files/radial-B_V-0_5.png\" width=100%/></td>\n",
       "                <td rowspan=2  colspan=2><center><video src=\"../files/radial-B_V-0_5.mp4\"   loop=\"1\" autoplay=\"1\" controls   type=\"video/mp4\" width=100%/></td>\n",
       "                </tr>\n",
       "                <tr>\n",
       "                <td><center><img src=\"../files/radial-B_V-0_5_cube.png\" width=100%/></td>\n",
       "                </tr>\n",
       "                </table></center>"
      ],
      "text/plain": [
       "<IPython.core.display.HTML object>"
      ]
     },
     "metadata": {},
     "output_type": "display_data"
    },
    {
     "data": {
      "text/html": [
       "\n",
       "                <center><table border=none width=100% height=100%>\n",
       "                <tr>\n",
       "                <td width=33%%><center><img src=\"../files/radial-B_V-1_0.png\" width=100%/></td>\n",
       "                <td rowspan=2  colspan=2><center><video src=\"../files/radial-B_V-1_0.mp4\"   loop=\"1\" autoplay=\"1\" controls   type=\"video/mp4\" width=100%/></td>\n",
       "                </tr>\n",
       "                <tr>\n",
       "                <td><center><img src=\"../files/radial-B_V-1_0_cube.png\" width=100%/></td>\n",
       "                </tr>\n",
       "                </table></center>"
      ],
      "text/plain": [
       "<IPython.core.display.HTML object>"
      ]
     },
     "metadata": {},
     "output_type": "display_data"
    },
    {
     "data": {
      "text/html": [
       "\n",
       "                <center><table border=none width=100% height=100%>\n",
       "                <tr>\n",
       "                <td width=33%%><center><img src=\"../files/radial-B_V-10_0.png\" width=100%/></td>\n",
       "                <td rowspan=2  colspan=2><center><video src=\"../files/radial-B_V-10_0.mp4\"   loop=\"1\" autoplay=\"1\" controls   type=\"video/mp4\" width=100%/></td>\n",
       "                </tr>\n",
       "                <tr>\n",
       "                <td><center><img src=\"../files/radial-B_V-10_0_cube.png\" width=100%/></td>\n",
       "                </tr>\n",
       "                </table></center>"
      ],
      "text/plain": [
       "<IPython.core.display.HTML object>"
      ]
     },
     "metadata": {},
     "output_type": "display_data"
    }
   ],
   "source": [
    "for B_V in [0, 0.001, 0.01, 0.05, 0.1, 0.5, 1.0, 10.0]:\n",
    "    name_ = name + '-B_V-' + str(B_V).replace('.', '_')\n",
    "    mc.figures_MC(fx, fy, ft, name_, B_V=B_V, verbose=verbose)\n",
    "    mc.in_show_video(name_)"
   ]
  },
  {
   "cell_type": "markdown",
   "metadata": {
    "deletable": true,
    "editable": true
   },
   "source": [
    "## Testing without using a log-normal distribution"
   ]
  },
  {
   "cell_type": "code",
   "execution_count": 8,
   "metadata": {
    "collapsed": false,
    "deletable": true,
    "editable": true
   },
   "outputs": [
    {
     "data": {
      "text/html": [
       "\n",
       "                <center><table border=none width=100% height=100%>\n",
       "                <tr>\n",
       "                <td width=33%%><center><img src=\"../files/radial-B_sf_nologgabor-0_0625.png\" width=100%/></td>\n",
       "                <td rowspan=2  colspan=2><center><video src=\"../files/radial-B_sf_nologgabor-0_0625.mp4\"   loop=\"1\" autoplay=\"1\" controls   type=\"video/mp4\" width=100%/></td>\n",
       "                </tr>\n",
       "                <tr>\n",
       "                <td><center><img src=\"../files/radial-B_sf_nologgabor-0_0625_cube.png\" width=100%/></td>\n",
       "                </tr>\n",
       "                </table></center>"
      ],
      "text/plain": [
       "<IPython.core.display.HTML object>"
      ]
     },
     "metadata": {},
     "output_type": "display_data"
    },
    {
     "data": {
      "text/html": [
       "\n",
       "                <center><table border=none width=100% height=100%>\n",
       "                <tr>\n",
       "                <td width=33%%><center><img src=\"../files/radial-B_sf_nologgabor-0_125.png\" width=100%/></td>\n",
       "                <td rowspan=2  colspan=2><center><video src=\"../files/radial-B_sf_nologgabor-0_125.mp4\"   loop=\"1\" autoplay=\"1\" controls   type=\"video/mp4\" width=100%/></td>\n",
       "                </tr>\n",
       "                <tr>\n",
       "                <td><center><img src=\"../files/radial-B_sf_nologgabor-0_125_cube.png\" width=100%/></td>\n",
       "                </tr>\n",
       "                </table></center>"
      ],
      "text/plain": [
       "<IPython.core.display.HTML object>"
      ]
     },
     "metadata": {},
     "output_type": "display_data"
    },
    {
     "data": {
      "text/html": [
       "\n",
       "                <center><table border=none width=100% height=100%>\n",
       "                <tr>\n",
       "                <td width=33%%><center><img src=\"../files/radial-B_sf_nologgabor-0_25.png\" width=100%/></td>\n",
       "                <td rowspan=2  colspan=2><center><video src=\"../files/radial-B_sf_nologgabor-0_25.mp4\"   loop=\"1\" autoplay=\"1\" controls   type=\"video/mp4\" width=100%/></td>\n",
       "                </tr>\n",
       "                <tr>\n",
       "                <td><center><img src=\"../files/radial-B_sf_nologgabor-0_25_cube.png\" width=100%/></td>\n",
       "                </tr>\n",
       "                </table></center>"
      ],
      "text/plain": [
       "<IPython.core.display.HTML object>"
      ]
     },
     "metadata": {},
     "output_type": "display_data"
    },
    {
     "data": {
      "text/html": [
       "\n",
       "                <center><table border=none width=100% height=100%>\n",
       "                <tr>\n",
       "                <td width=33%%><center><img src=\"../files/radial-B_sf_nologgabor-0_5.png\" width=100%/></td>\n",
       "                <td rowspan=2  colspan=2><center><video src=\"../files/radial-B_sf_nologgabor-0_5.mp4\"   loop=\"1\" autoplay=\"1\" controls   type=\"video/mp4\" width=100%/></td>\n",
       "                </tr>\n",
       "                <tr>\n",
       "                <td><center><img src=\"../files/radial-B_sf_nologgabor-0_5_cube.png\" width=100%/></td>\n",
       "                </tr>\n",
       "                </table></center>"
      ],
      "text/plain": [
       "<IPython.core.display.HTML object>"
      ]
     },
     "metadata": {},
     "output_type": "display_data"
    },
    {
     "data": {
      "text/html": [
       "\n",
       "                <center><table border=none width=100% height=100%>\n",
       "                <tr>\n",
       "                <td width=33%%><center><img src=\"../files/radial-B_sf_nologgabor-1_0.png\" width=100%/></td>\n",
       "                <td rowspan=2  colspan=2><center><video src=\"../files/radial-B_sf_nologgabor-1_0.mp4\"   loop=\"1\" autoplay=\"1\" controls   type=\"video/mp4\" width=100%/></td>\n",
       "                </tr>\n",
       "                <tr>\n",
       "                <td><center><img src=\"../files/radial-B_sf_nologgabor-1_0_cube.png\" width=100%/></td>\n",
       "                </tr>\n",
       "                </table></center>"
      ],
      "text/plain": [
       "<IPython.core.display.HTML object>"
      ]
     },
     "metadata": {},
     "output_type": "display_data"
    }
   ],
   "source": [
    "for B_sf in np.logspace(-4, 0., N, base=2):\n",
    "    name_ = name + '-B_sf_nologgabor-' + str(B_sf).replace('.', '_')\n",
    "    mc.figures_MC(fx, fy, ft, name_, B_sf=B_sf, loggabor=False, verbose=verbose)\n",
    "    mc.in_show_video(name_)    "
   ]
  },
  {
   "cell_type": "markdown",
   "metadata": {
    "deletable": true,
    "editable": true
   },
   "source": [
    "## checking that sf_0 is consistant with the number of cycles per period\n",
    "\n",
    "By design, MotionClouds are created to be characterized by a given frequency range. Let's check on the raw image that this is correct."
   ]
  },
  {
   "cell_type": "code",
   "execution_count": 9,
   "metadata": {
    "collapsed": false,
    "deletable": true,
    "editable": true
   },
   "outputs": [
    {
     "data": {
      "text/plain": [
       "<matplotlib.image.AxesImage at 0x115ce2128>"
      ]
     },
     "execution_count": 9,
     "metadata": {},
     "output_type": "execute_result"
    },
    {
     "data": {
      "image/png": "[encoded data removed]",
      "text/plain": [
       "<matplotlib.figure.Figure at 0x111934208>"
      ]
     },
     "metadata": {},
     "output_type": "display_data"
    }
   ],
   "source": [
    "downscale = 4\n",
    "fx, fy, ft = mc.get_grids(mc.N_X/downscale, mc.N_Y/downscale, mc.N_frame/downscale)\n",
    "N_X, N_Y, N_frame = fx.shape\n",
    "\n",
    "def spatial_xcorr(im):\n",
    "    import scipy.ndimage as nd\n",
    "    N_X, N_Y, N_frame = im.shape\n",
    "    Xcorr = np.zeros((N_X, N_Y))\n",
    "    for t in range(N_frame):\n",
    "        Xcorr += nd.correlate(im[:, :, t], im[:, :, t], mode='wrap')\n",
    "    return Xcorr\n",
    "\n",
    "mc_i = mc.envelope_gabor(fx, fy, ft, \n",
    "                         V_X=0., V_Y=0., \n",
    "                         sf_0=0.15, B_sf=0.03)\n",
    "im = mc.random_cloud(mc_i)\n",
    "Xcorr = spatial_xcorr(im)\n",
    "plt.imshow(Xcorr)"
   ]
  },
  {
   "cell_type": "code",
   "execution_count": 10,
   "metadata": {
    "collapsed": false,
    "deletable": true,
    "editable": true
   },
   "outputs": [
    {
     "name": "stdout",
     "output_type": "stream",
     "text": [
      "First maximum reached at index 32 - that is normal as we plot the autocorrelation\n",
      "Max =  1.0\n"
     ]
    },
    {
     "data": {
      "image/png": "[encoded data removed]",
      "text/plain": [
       "<matplotlib.figure.Figure at 0x111941f60>"
      ]
     },
     "metadata": {},
     "output_type": "display_data"
    }
   ],
   "source": [
    "xcorr = Xcorr.sum(axis=1)\n",
    "xcorr /= xcorr.max()\n",
    "plt.plot(np.arange(-N_X/2, N_X/2), xcorr)\n",
    "print('First maximum reached at index ' + str(np.argmax(xcorr)) + ' - that is normal as we plot the autocorrelation')\n",
    "print('Max = ', xcorr[np.argmax(xcorr)])"
   ]
  },
  {
   "cell_type": "markdown",
   "metadata": {
    "deletable": true,
    "editable": true
   },
   "source": [
    "To find the period, intuitively, one could just find the zero of the gradient:"
   ]
  },
  {
   "cell_type": "code",
   "execution_count": 11,
   "metadata": {
    "collapsed": false,
    "deletable": true,
    "editable": true
   },
   "outputs": [
    {
     "name": "stdout",
     "output_type": "stream",
     "text": [
      "First zero gradient reached at index 4 - at the minimum of the xcorr\n",
      "-0.210252703916 0.435683947279\n"
     ]
    },
    {
     "data": {
      "image/png": "[encoded data removed]",
      "text/plain": [
       "<matplotlib.figure.Figure at 0x115eca2e8>"
      ]
     },
     "metadata": {},
     "output_type": "display_data"
    }
   ],
   "source": [
    "half_xcorr = xcorr[N_X//2:]\n",
    "half_xcorr_gradient = np.gradient(xcorr)[N_X//2:]\n",
    "plt.plot(half_xcorr)\n",
    "plt.plot(half_xcorr_gradient, 'g')\n",
    "idx = np.argmax(half_xcorr_gradient>0)\n",
    "print('First zero gradient reached at index ' + str(idx) + ' - at the minimum of the xcorr')\n",
    "print (half_xcorr_gradient[idx-1], half_xcorr_gradient[idx])"
   ]
  },
  {
   "cell_type": "markdown",
   "metadata": {
    "deletable": true,
    "editable": true
   },
   "source": [
    "We thus get in pixels half of the width of a period.\n",
    "\n",
    "More precisely, let's fit with a sinusoid (that's yet another FFT...):"
   ]
  },
  {
   "cell_type": "code",
   "execution_count": 12,
   "metadata": {
    "collapsed": false,
    "deletable": true,
    "editable": true
   },
   "outputs": [
    {
     "name": "stdout",
     "output_type": "stream",
     "text": [
      "Max auto correlation reached at frequency 9\n",
      "Max auto correlation reached with a period 7.11111111111\n"
     ]
    },
    {
     "data": {
      "image/png": "[encoded data removed]",
      "text/plain": [
       "<matplotlib.figure.Figure at 0x111941358>"
      ]
     },
     "metadata": {},
     "output_type": "display_data"
    }
   ],
   "source": [
    "xcorr_MC = np.absolute(mc_i**2).sum(axis=-1).sum(axis=-1)\n",
    "half_xcorr_MC = xcorr_MC[N_X//2:]\n",
    "half_xcorr_MC /= half_xcorr_MC.max()\n",
    "plt.plot(half_xcorr_MC, 'r--')\n",
    "\n",
    "half_xcorr_FT = np.absolute(np.fft.fft(xcorr))[:N_X//2]\n",
    "half_xcorr_FT /= half_xcorr_FT.max()\n",
    "plt.plot(half_xcorr_FT)\n",
    "idx = np.argmax(half_xcorr_FT)\n",
    "print('Max auto correlation reached at frequency ' + str(idx))\n",
    "print('Max auto correlation reached with a period ' + str(1.*N_X/idx))"
   ]
  },
  {
   "cell_type": "markdown",
   "metadata": {
    "deletable": true,
    "editable": true
   },
   "source": [
    "Wrapping things up:"
   ]
  },
  {
   "cell_type": "code",
   "execution_count": 13,
   "metadata": {
    "collapsed": false,
    "deletable": true,
    "editable": true
   },
   "outputs": [
    {
     "data": {
      "text/plain": [
       "<matplotlib.text.Text at 0x11607a320>"
      ]
     },
     "execution_count": 13,
     "metadata": {},
     "output_type": "execute_result"
    },
    {
     "data": {
      "image/png": "[encoded data removed]",
      "text/plain": [
       "<matplotlib.figure.Figure at 0x115e5cac8>"
      ]
     },
     "metadata": {},
     "output_type": "display_data"
    }
   ],
   "source": [
    "sf_0_ = [0.01, 0.05, 0.1, 0.2, 0.4, 0.8]\n",
    "sf_0_ = np.linspace(0.01, .5, 12)\n",
    "downscale = 4\n",
    "fx, fy, ft = mc.get_grids(mc.N_X//downscale, mc.N_Y//downscale, mc.N_frame//downscale)\n",
    "\n",
    "def period_px(mc_i):\n",
    "    N_X, N_Y, N_frame = im.shape\n",
    "    xcorr_MC = np.absolute(mc_i**2).sum(axis=-1).sum(axis=-1)\n",
    "    half_xcorr_MC = xcorr_MC[N_X//2:]\n",
    "    idx = np.argmax(half_xcorr_MC)\n",
    "    return np.fft.fftfreq(N_X)[idx]\n",
    "\n",
    "ppx = np.zeros_like(sf_0_)\n",
    "for i, sf_0 in enumerate(sf_0_):\n",
    "    mc_i = mc.envelope_gabor(fx, fy, ft, \n",
    "                             V_X=0., V_Y=0., \n",
    "                             sf_0=sf_0, B_sf=0.03)\n",
    "    ppx[i] = period_px(mc_i)\n",
    "    \n",
    "plt.plot(sf_0_, ppx)\n",
    "plt.xlabel('sf_0 [a. u.]')\n",
    "plt.ylabel('observed freq [a. u.]')"
   ]
  },
  {
   "cell_type": "markdown",
   "metadata": {
    "deletable": true,
    "editable": true
   },
   "source": [
    "Note that the range of frequencies is accessible using:"
   ]
  },
  {
   "cell_type": "code",
   "execution_count": 14,
   "metadata": {
    "collapsed": false,
    "deletable": true,
    "editable": true
   },
   "outputs": [
    {
     "name": "stdout",
     "output_type": "stream",
     "text": [
      "[ 0.       0.01562  0.03125  0.04688  0.0625   0.07812  0.09375  0.10938\n",
      "  0.125    0.14062  0.15625  0.17188  0.1875   0.20312  0.21875  0.23438\n",
      "  0.25     0.26562  0.28125  0.29688  0.3125   0.32812  0.34375  0.35938\n",
      "  0.375    0.39062  0.40625  0.42188  0.4375   0.45312  0.46875  0.48438\n",
      " -0.5     -0.48438 -0.46875 -0.45312 -0.4375  -0.42188 -0.40625 -0.39062\n",
      " -0.375   -0.35938 -0.34375 -0.32812 -0.3125  -0.29688 -0.28125 -0.26562\n",
      " -0.25    -0.23438 -0.21875 -0.20312 -0.1875  -0.17188 -0.15625 -0.14062\n",
      " -0.125   -0.10938 -0.09375 -0.07812 -0.0625  -0.04688 -0.03125 -0.01562]\n"
     ]
    }
   ],
   "source": [
    "print(np.fft.fftfreq(fx.shape[0]))"
   ]
  }
 ],
 "metadata": {
  "kernelspec": {
   "display_name": "Python 3",
   "language": "python",
   "name": "python3"
  },
  "language_info": {
   "codemirror_mode": {
    "name": "ipython",
    "version": 3
   },
   "file_extension": ".py",
   "mimetype": "text/x-python",
   "name": "python",
   "nbconvert_exporter": "python",
   "pygments_lexer": "ipython3",
   "version": "3.6.1"
  }
 },
 "nbformat": 4,
 "nbformat_minor": 0
}
