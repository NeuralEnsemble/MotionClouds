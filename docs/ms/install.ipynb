{
  "cells": [
    {
      "cell_type": "markdown",
      "source": [
        "This page covers the installation of the MotionClouds library.\n",
        "\n",
        "This library depends on a number of dependencies, among which ``numpy`` is the only that is mandatory.\n",
        "\nThere is a dedicated page describing [instructions oriented toward psychophysicists](https://neuralensemble.github.io/MotionClouds/posts/instructions-for-psychophysicists.html)"
      ],
      "metadata": {}
    },
    {
      "cell_type": "markdown",
      "source": [
        "# MotionClouds: installing and running the python scripts\n",
        "\n",
        "MotionClouds are parameterized stimuli with controlled motion content and no spatial coherence.  They are precisely tuned in the frequency space.\n",
        "\n",
        "* A full description can be found in Paula S. Leon, Ivo Vanzetta, Guillaume S. Masson, Laurent U. Perrinet. Motion Clouds: Model-based stimulus synthesis of natural-like random textures for the study of motion perception, URL . Journal of Neurophysiology, 107(11):3217--3226, 2012, see  http://www.ncbi.nlm.nih.gov/pubmed/22423003 or http://jn.physiology.org/content/107/11/3217 .\n",
        "\n",
        "## download\n",
        "\n",
        "* to get the latest version, download the current state from the repository:\n",
        "```\n",
        "git clone https://github.com/NeuralEnsemble/MotionClouds.git\n",
        "```\n",
        "\n",
        "## installing and running the python scripts\n",
        "This package consists of:\n",
        "\n",
        "* ```MotionClouds.py``` : the API with all the math and display routines,\n",
        "* ```test_*.py``` : different types of stimuli are tested,\n",
        "* ```experiment_*py``` : different experiments.\n",
        "* ```fig_*py``` : different scripts used to generate wiki pages.\n",
        "* ```figures``` : resulting figures of tests and experiments (as set in the variable ```MotionClouds.figpath```.\n",
        "* ```Makefile``` : a GNUmake file to edit files ```make edit```, generate figures ```make figures``` or compile the documentation ```make doc```.\n",
        "\n",
        "## Installation\n",
        "\n",
        "*   MotionClouds consist of a one-file python script: Installation consists simply in downloading the ```MotionClouds.py``` file which contains all routines to compute and use the MotionClouds textures. This script uses python (http://python.org) which comes (pre-installed /  easy to download and install) on many operating systems.\n",
        "\n",
        "* MotionClouds may easily be installed using\n",
        "```\n",
        "    pip install MotionClouds\n",
        "```\n",
        "\n",
        "* Other solutions consist to simply grab this file at: https://raw.githubusercontent.com/NeuralEnsemble/MotionClouds/master/MotionClouds.py and to use it along with the examples.\n",
        "\n",
        "* Installation has some dependencies:\n",
        " 1. mandatory: ```numpy``` is the core library used to compute textures,\n",
        " 1. optional: ```vispy``` is used to visualize envelopes,\n",
        " 1. optional: ```ffmpeg``` is used to generate movies.\n",
        " 1. optional: ```matplotlib```, ```scipy``` (with PIL support) and ```imagemagick``` are used to generate figures in the documentation.\n",
        " 1. optional: ```progressbar``` for displaying progress of encoding.\n",
        " 1. optional: ```texlive-latex-recommended  latexmk latexdiff``` to compile the documentation\n",
        " 1. optional: ```ipython```, ```jupyter-notebook```, ```pymovie``` to test MotionClouds within an ipython notebook (recommended)\n",
        "\n",
        "* These dependencies may  be easily met using the dedicated scripts:\n",
        "\n",
        " * For MacOsX, first install command line tools by typing the ```git``` command in the terminal (a pop-up message should happen if these tools are not installed). Then I recommend using a python toolchain such as that described in https://github.com/laurentperrinet/config-scripts/blob/master/osx_brew_python.sh\n",
        " \n",
        " * For Debian-like systems, use the package manager to install missing dependencies (most likely, everything is already installed)\n",
        "\n",
        "Again, these line of code may be copy-and-pasted in your terminal.\n",
        "\n\n",
        "##testing\n",
        "\n",
        "* To test the basic functionality of Motion Clouds, try in the terminal:\n",
        "```\n",
        "python -c'import MotionClouds as mc; fx, fy, ft = mc.get_grids(mc.N_X, mc.N_Y, mc.N_frame); z = mc.envelope_gabor(fx, fy, ft)'\n",
        "```\n",
        "\n",
        "* other sources exist to get a stable release, such as ModelDb (http://senselab.med.yale.edu/modeldb/ShowModel.asp?model=146953).\n",
        "\n",
        "* This was tested on several MacOsX/Mavericks 64bit machines and on ubuntu 14.04 LTS and Debian squeezy 64bit machines.\n",
        "\n* If that fails, we will be happy to help out, so send an e-mail to [laurent.perrinet@univ-amu.fr](mailto://laurent.perrinet@univ-amu.fr)."
      ],
      "metadata": {}
    }
  ],
  "metadata": {
    "name": "",
    "signature": "sha256:8c052c68b4092f70d541780a73752b90055c93f1978569cd835845d25735e258",
    "kernelspec": {
      "name": "python3",
      "language": "python",
      "display_name": "Python 3"
    },
    "kernel_info": {
      "name": "python3"
    },
    "language_info": {
      "name": "python",
      "version": "3.6.5",
      "mimetype": "text/x-python",
      "codemirror_mode": {
        "name": "ipython",
        "version": 3
      },
      "pygments_lexer": "ipython3",
      "nbconvert_exporter": "python",
      "file_extension": ".py"
    },
    "nteract": {
      "version": "0.8.4"
    }
  },
  "nbformat": 4,
  "nbformat_minor": 0
}
