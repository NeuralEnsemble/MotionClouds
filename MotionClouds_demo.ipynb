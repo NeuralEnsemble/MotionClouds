{
 "cells": [
  {
   "cell_type": "markdown",
   "metadata": {},
   "source": [
    "# Code example - A short intro\n",
    "\n",
    "\n",
    "This demo is available also at this [link](http://motionclouds.invibe.net/posts/testing_components.html) or you can run it interactively using [Binder](https://mybinder.org/v2/gh/NeuralEnsemble/MotionClouds/master).\n",
    "\n",
    "Motion Clouds are built using a collection of scripts that provides a simple way of generating complex stimuli suitable for neuroscience and psychophysics experiments. It is meant to be an open-source package that can be combined with other packages such as PsychoPy or NeuroTools.\n",
    "\n",
    "All functions are implemented in one main script called `MotionClouds.py` that handles the Fourier cube, the envelope functions as well as the random phase generation and all Fourier related processing. Additionally, all the auxiliary visualization tools to plot the spectra and the movies are included. Specific scripts such as `test_color.py`, `test_speed.py`, `test_radial.py` and `test_orientation.py` explore the role of different parameters for each individual envelope (respectively color, speed, radial frequency, orientation). Our aim is to keep the code as simple as possible in order to be comprehensible and flexible. "
   ]
  },
  {
   "cell_type": "code",
   "execution_count": null,
   "metadata": {},
   "outputs": [],
   "source": [
    "import numpy as np\n",
    "np.set_printoptions(precision=3, suppress=True)"
   ]
  },
  {
   "cell_type": "markdown",
   "metadata": {},
   "source": [
    "We load the library and specify we wish to display on the notebook (on by default)"
   ]
  },
  {
   "cell_type": "code",
   "execution_count": null,
   "metadata": {},
   "outputs": [],
   "source": [
    "import MotionClouds as mc\n",
    "mc.figpath = 'figures'\n",
    "mc.notebook = True\n",
    "opts = dict(figpath=mc.figpath, do_figs=False)"
   ]
  },
  {
   "cell_type": "code",
   "execution_count": null,
   "metadata": {},
   "outputs": [],
   "source": [
    "# define Fourier domain\n",
    "fx, fy, ft = mc.get_grids(mc.N_X, mc.N_Y, mc.N_frame)\n",
    "name = 'demo'\n",
    "mc.figures_MC(fx, fy, ft, name,\n",
    "    V_X=1., V_Y=0., B_V=.5,\n",
    "    sf_0=.125, B_sf=.1,\n",
    "    theta=0., B_theta=np.pi/16, alpha=0., **opts)\n",
    "mc.in_show_video(name, **opts)"
   ]
  },
  {
   "cell_type": "markdown",
   "metadata": {},
   "source": [
    "\n",
    "Behind the scene, what we are doing is quite simple. To sum up, when we build a Motion Cloud there are 3 simple steps to follow:\n",
    "\n",
    "## set the MC parameters and construct the Fourier envelope, then visualize it as iso-surfaces:\n"
   ]
  },
  {
   "cell_type": "code",
   "execution_count": null,
   "metadata": {},
   "outputs": [],
   "source": [
    "# define an envelope\n",
    "envelope = mc.envelope_gabor(fx, fy, ft,\n",
    "    V_X=1., V_Y=0., B_V=.1,\n",
    "    sf_0=.15, B_sf=.1,\n",
    "    theta=0., B_theta=np.pi/8, alpha=1.)"
   ]
  },
  {
   "cell_type": "markdown",
   "metadata": {},
   "source": [
    "Commenting this as it does not work on binder (any help appreciated):"
   ]
  },
  {
   "cell_type": "raw",
   "metadata": {},
   "source": [
    "# Render the Fourier Spectrum\n",
    "render_im = mc.visualize(envelope)"
   ]
  },
  {
   "cell_type": "markdown",
   "metadata": {},
   "source": [
    "Then, visualize the Fourier Spectrum"
   ]
  },
  {
   "cell_type": "raw",
   "metadata": {},
   "source": [
    "%matplotlib inline\n",
    "import matplotlib.pyplot as plt"
   ]
  },
  {
   "cell_type": "raw",
   "metadata": {},
   "source": [
    "fig, ax = plt.subplots(figsize=[13, 13*render_im.shape[1]/render_im.shape[0]])\n",
    "ax.imshow(render_im)"
   ]
  },
  {
   "cell_type": "markdown",
   "metadata": {},
   "source": [
    "## perform the IFFT and contrast normalization\n",
    "\n",
    "Knowing this envelope, we may now generate an instance of this texture. In particular, we can visualize the stimulus as a spatio-temporal 'cube' (X-Y-T) of the image sequence,"
   ]
  },
  {
   "cell_type": "code",
   "execution_count": null,
   "metadata": {},
   "outputs": [],
   "source": [
    "movie = mc.random_cloud(envelope)\n",
    "movie = mc.rectif(movie)"
   ]
  },
  {
   "cell_type": "raw",
   "metadata": {},
   "source": [
    "# Visualize the Stimulus\n",
    "mc.cube(movie, name=mc.figpath + '/' + name + '_cube', figpath=mc.figpath)"
   ]
  },
  {
   "cell_type": "markdown",
   "metadata": {},
   "source": [
    "## export the stimulus \n",
    "\n",
    "For instance as a movie (.mpeg format available), as separate frames (.bmp and .png formats available) in a compressed zipped folder, or as a Matlab matrix (.mat format)."
   ]
  },
  {
   "cell_type": "code",
   "execution_count": null,
   "metadata": {},
   "outputs": [],
   "source": [
    "mc.anim_save(movie, mc.figpath + '/' + name, display=False, vext='.mp4', figpath=mc.figpath)"
   ]
  },
  {
   "cell_type": "markdown",
   "metadata": {},
   "source": [
    "And now we can show it by using the rich display features of ipython notebooks:"
   ]
  },
  {
   "cell_type": "code",
   "execution_count": null,
   "metadata": {},
   "outputs": [],
   "source": [
    "mc.in_show_video(name, **opts)"
   ]
  },
  {
   "cell_type": "markdown",
   "metadata": {},
   "source": [
    "If some parameters are not given, they are set to default values corresponding to a ''standard'' Motion Cloud. Moreover, the user can easily explore a range of different Motion Clouds simply by setting  an array of values for a determined parameter. Here, for example, we generate 8 MCs with increasing spatial frequency `sf_0` while keeping the other parameters fixed to default values:"
   ]
  },
  {
   "cell_type": "code",
   "execution_count": null,
   "metadata": {},
   "outputs": [],
   "source": [
    "for sf_0 in [0.01, 0.05, 0.1, 0.2, 0.3, 0.4, 0.5, 0.6]:\n",
    "    name_ = name + '-sf_0-' + str(sf_0).replace('.', '_')\n",
    "    # function performing plots for a given set of parameters\n",
    "    mc.figures_MC(fx, fy, ft, name_, sf_0=sf_0, **opts)\n",
    "    mc.in_show_video(name_, **opts)"
   ]
  },
  {
   "cell_type": "markdown",
   "metadata": {},
   "source": [
    "# Motion Clouds: testing components of the envelope"
   ]
  },
  {
   "cell_type": "code",
   "execution_count": null,
   "metadata": {},
   "outputs": [],
   "source": [
    "help(mc.envelope_gabor)"
   ]
  },
  {
   "cell_type": "markdown",
   "metadata": {},
   "source": [
    "## Testing the speed"
   ]
  },
  {
   "cell_type": "markdown",
   "metadata": {},
   "source": [
    "Here the link to the test page for the component [Speed](http://motionclouds.invibe.net/posts/testing-speed.html)"
   ]
  },
  {
   "cell_type": "code",
   "execution_count": null,
   "metadata": {},
   "outputs": [],
   "source": [
    "fx, fy, ft = mc.get_grids(mc.N_X, mc.N_Y, mc.N_frame)\n",
    "name = 'speed'\n",
    "z = mc.envelope_speed(fx, fy, ft)\n",
    "mc.figures(z, name, **opts)\n",
    "mc.in_show_video(name, **opts)"
   ]
  },
  {
   "cell_type": "markdown",
   "metadata": {},
   "source": [
    "## Exploring the orientation component of the envelope around a grating."
   ]
  },
  {
   "cell_type": "markdown",
   "metadata": {},
   "source": [
    "Here the link to the test page for the [orientation component](http://motionclouds.invibe.net/posts/testing-grating.html)"
   ]
  },
  {
   "cell_type": "code",
   "execution_count": null,
   "metadata": {},
   "outputs": [],
   "source": [
    "fx, fy, ft = mc.get_grids(mc.N_X, mc.N_Y, mc.N_frame)\n",
    "name = 'grating'\n",
    "z = mc.envelope_gabor(fx, fy, ft)\n",
    "mc.figures(z, name, **opts)\n",
    "mc.in_show_video(name, **opts)"
   ]
  },
  {
   "cell_type": "markdown",
   "metadata": {},
   "source": [
    "Here the link to the test page for the component [Radial](http://motionclouds.invibe.net/posts/testing-radial.html)"
   ]
  },
  {
   "cell_type": "code",
   "execution_count": null,
   "metadata": {},
   "outputs": [],
   "source": [
    "B_theta = np.pi/8.\n",
    "fx, fy, ft = mc.get_grids(mc.N_X, mc.N_Y, mc.N_frame)\n",
    "name = 'radial'\n",
    "mc.figures_MC(fx, fy, ft, name, B_theta=B_theta, **opts)\n",
    "verbose = False\n",
    "mc.in_show_video(name, **opts)"
   ]
  },
  {
   "cell_type": "markdown",
   "metadata": {},
   "source": [
    "## Testing the color\n",
    "\n",
    "In some circonstances, it is desirable to create a texture with a different \"color\" than that of natural images (that is where the envelope is in 1/f)."
   ]
  },
  {
   "cell_type": "markdown",
   "metadata": {},
   "source": [
    "Here the link to the test page for the component [Color](http://motionclouds.invibe.net/posts/testing-color.html)"
   ]
  },
  {
   "cell_type": "code",
   "execution_count": null,
   "metadata": {},
   "outputs": [],
   "source": [
    "name = 'color'\n",
    "fx, fy, ft = mc.get_grids(mc.N_X, mc.N_Y, mc.N_frame)\n",
    "z = mc.envelope_color(fx, fy, ft, alpha=1.)\n",
    "mc.figures(z, name, **opts)\n",
    "mc.in_show_video(name, **opts)"
   ]
  }
 ],
 "metadata": {
  "kernelspec": {
   "display_name": "Python 3",
   "language": "python",
   "name": "python3"
  },
  "language_info": {
   "codemirror_mode": {
    "name": "ipython",
    "version": 3
   },
   "file_extension": ".py",
   "mimetype": "text/x-python",
   "name": "python",
   "nbconvert_exporter": "python",
   "pygments_lexer": "ipython3",
   "version": "3.6.3"
  },
  "toc": {
   "colors": {
    "hover_highlight": "#DAA520",
    "navigate_num": "#000000",
    "navigate_text": "#333333",
    "running_highlight": "#FF0000",
    "selected_highlight": "#FFD700",
    "sidebar_border": "#EEEEEE",
    "wrapper_background": "#FFFFFF"
   },
   "moveMenuLeft": true,
   "nav_menu": {},
   "navigate_menu": true,
   "number_sections": true,
   "sideBar": true,
   "skip_h1_title": false,
   "threshold": 4,
   "toc_cell": false,
   "toc_position": {},
   "toc_section_display": "block",
   "toc_window_display": false,
   "widenNotebook": false
  }
 },
 "nbformat": 4,
 "nbformat_minor": 1
}
